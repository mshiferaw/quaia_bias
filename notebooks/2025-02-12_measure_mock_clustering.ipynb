{
 "cells": [
  {
   "cell_type": "code",
   "execution_count": 1,
   "id": "54ab7f38",
   "metadata": {},
   "outputs": [],
   "source": [
    "import numpy as np\n",
    "import healpy as hp\n",
    "from healpy.newvisufunc import projview\n",
    "from astropy.table import Table\n",
    "\n",
    "import matplotlib\n",
    "from matplotlib import pyplot as plt"
   ]
  },
  {
   "cell_type": "code",
   "execution_count": 2,
   "id": "5dcce72f",
   "metadata": {},
   "outputs": [],
   "source": [
    "matplotlib.rcParams['ytick.labelsize'] = 18\n",
    "matplotlib.rcParams['xtick.labelsize'] = 18\n",
    "matplotlib.rcParams['axes.labelsize'] = 22\n",
    "matplotlib.rcParams['legend.fontsize'] = 18"
   ]
  },
  {
   "cell_type": "code",
   "execution_count": 3,
   "id": "cc4788ad",
   "metadata": {},
   "outputs": [],
   "source": [
    "cmap_map = 'plasma'"
   ]
  },
  {
   "cell_type": "markdown",
   "id": "158c9bf8",
   "metadata": {},
   "source": [
    "## Load data from local machine"
   ]
  },
  {
   "cell_type": "code",
   "execution_count": null,
   "id": "4e82c763",
   "metadata": {},
   "outputs": [],
   "source": []
  }
 ],
 "metadata": {
  "kernelspec": {
   "display_name": "Python (jupyter-env)",
   "language": "python",
   "name": "jupyter-env"
  },
  "language_info": {
   "codemirror_mode": {
    "name": "ipython",
    "version": 3
   },
   "file_extension": ".py",
   "mimetype": "text/x-python",
   "name": "python",
   "nbconvert_exporter": "python",
   "pygments_lexer": "ipython3",
   "version": "3.8.16"
  }
 },
 "nbformat": 4,
 "nbformat_minor": 5
}
