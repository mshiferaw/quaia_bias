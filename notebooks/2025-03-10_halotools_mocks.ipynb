{
 "cells": [
  {
   "cell_type": "code",
   "execution_count": 1,
   "id": "5096850b-5f6f-4d01-b3c8-38d48df8834a",
   "metadata": {},
   "outputs": [],
   "source": [
    "from halotools.sim_manager import CachedHaloCatalog\n",
    "from halotools.empirical_models import PrebuiltHodModelFactory\n",
    "import numpy as np\n",
    "from matplotlib import pyplot as plt\n",
    "from halotools.mock_observables import hod_from_mock"
   ]
  },
  {
   "cell_type": "markdown",
   "id": "9efea86a-38f2-406e-827c-4609c4f2247f",
   "metadata": {},
   "source": [
    "# Build models and make mocks\n",
    "## Use prebuilt model provided by halotools"
   ]
  },
  {
   "cell_type": "code",
   "execution_count": 86,
   "id": "e8c9b767-97bd-4c49-b4fa-2a101ea24926",
   "metadata": {},
   "outputs": [],
   "source": [
    "zheng07_model = PrebuiltHodModelFactory('zheng07', threshold = -19.5, redshift = 0.5)"
   ]
  },
  {
   "cell_type": "code",
   "execution_count": 87,
   "id": "d0d4ef1d-76bc-44a3-833a-fc46375204fb",
   "metadata": {},
   "outputs": [
    {
     "data": {
      "text/plain": [
       "{'logMmin': 11.75,\n",
       " 'sigma_logM': 0.28,\n",
       " 'logM0': 11.69,\n",
       " 'logM1': 13.01,\n",
       " 'alpha': 1.06}"
      ]
     },
     "execution_count": 87,
     "metadata": {},
     "output_type": "execute_result"
    }
   ],
   "source": [
    "zheng07_model.param_dict"
   ]
  },
  {
   "cell_type": "code",
   "execution_count": 54,
   "id": "9f894003-76fb-483b-98a3-066cf950ad96",
   "metadata": {},
   "outputs": [],
   "source": [
    "zheng07_model.param_dict['logMmin'] = 12.5"
   ]
  },
  {
   "cell_type": "code",
   "execution_count": 56,
   "id": "07cd9de9-a7b6-49e0-af09-2e132251e483",
   "metadata": {},
   "outputs": [],
   "source": [
    "halocat = CachedHaloCatalog(simname = 'bolshoi', redshift = 0.5)"
   ]
  },
  {
   "cell_type": "code",
   "execution_count": 57,
   "id": "c5667c36-4dcd-424e-a089-555427ccd584",
   "metadata": {},
   "outputs": [],
   "source": [
    "halos = halocat.halo_table"
   ]
  },
  {
   "cell_type": "code",
   "execution_count": 58,
   "id": "7826db85-47a6-429b-a5d9-0bfbe0b4e625",
   "metadata": {},
   "outputs": [
    {
     "name": "stdout",
     "output_type": "stream",
     "text": [
      "halo_vmax_firstacc halo_dmvir_dt_tdyn ... halo_hostid halo_mvir_host_halo\n",
      "------------------ ------------------ ... ----------- -------------------\n",
      "            917.78             6630.0 ...  1805589089   117300000000000.0\n",
      "            100.65              280.6 ...  1805589089   117300000000000.0\n",
      "              91.4             -3.247 ...  1805589089   117300000000000.0\n",
      "             63.53              1.725 ...  1805589089   117300000000000.0\n",
      "            264.93             -57.76 ...  1805589089   117300000000000.0\n",
      "             87.28            -0.4211 ...  1805589089   117300000000000.0\n",
      "             92.93             -2.533 ...  1805589460       27670000000.0\n",
      "             84.96             -1.642 ...  1805589089   117300000000000.0\n",
      "            121.69             -3.265 ...  1805589089   117300000000000.0\n"
     ]
    }
   ],
   "source": [
    "print(halos[0:9])"
   ]
  },
  {
   "cell_type": "code",
   "execution_count": 59,
   "id": "e7288229-be07-4213-a301-7c4efdaa9360",
   "metadata": {},
   "outputs": [
    {
     "name": "stdout",
     "output_type": "stream",
     "text": [
      "['halo_vmax_firstacc', 'halo_dmvir_dt_tdyn', 'halo_macc', 'halo_scale_factor', 'halo_vmax_mpeak', 'halo_m_pe_behroozi', 'halo_xoff', 'halo_spin', 'halo_scale_factor_firstacc', 'halo_c_to_a', 'halo_mvir_firstacc', 'halo_scale_factor_last_mm', 'halo_scale_factor_mpeak', 'halo_pid', 'halo_m500c', 'halo_id', 'halo_halfmass_scale_factor', 'halo_upid', 'halo_t_by_u', 'halo_rvir', 'halo_vpeak', 'halo_dmvir_dt_100myr', 'halo_mpeak', 'halo_m_pe_diemer', 'halo_jx', 'halo_jy', 'halo_jz', 'halo_m2500c', 'halo_mvir', 'halo_voff', 'halo_axisA_z', 'halo_axisA_x', 'halo_axisA_y', 'halo_y', 'halo_b_to_a', 'halo_x', 'halo_z', 'halo_m200b', 'halo_vacc', 'halo_scale_factor_lastacc', 'halo_vmax', 'halo_m200c', 'halo_vx', 'halo_vy', 'halo_vz', 'halo_dmvir_dt_inst', 'halo_rs', 'halo_nfw_conc', 'halo_hostid', 'halo_mvir_host_halo']\n"
     ]
    }
   ],
   "source": [
    "print(halos.keys())"
   ]
  },
  {
   "cell_type": "code",
   "execution_count": 60,
   "id": "8f650b05-1fe3-42af-8acb-20c8eae74632",
   "metadata": {},
   "outputs": [
    {
     "data": {
      "text/html": [
       "<div><i>Table length=1420182</i>\n",
       "<table id=\"table139674780813872\" class=\"table-striped table-bordered table-condensed\">\n",
       "<thead><tr><th>halo_pid</th><th>halo_upid</th><th>halo_hostid</th><th>halo_z</th><th>halo_vz</th></tr></thead>\n",
       "<thead><tr><th>int64</th><th>int64</th><th>int64</th><th>float32</th><th>float32</th></tr></thead>\n",
       "<tr><td>-1</td><td>-1</td><td>1805589089</td><td>18.18657</td><td>-119.05</td></tr>\n",
       "<tr><td>1805589089</td><td>1805589089</td><td>1805589089</td><td>18.20386</td><td>-38.88</td></tr>\n",
       "<tr><td>1805589198</td><td>1805589089</td><td>1805589089</td><td>18.06294</td><td>262.81</td></tr>\n",
       "<tr><td>1805590461</td><td>1805589089</td><td>1805589089</td><td>17.87904</td><td>-382.43</td></tr>\n",
       "<tr><td>1805589089</td><td>1805589089</td><td>1805589089</td><td>18.35121</td><td>61.77</td></tr>\n",
       "<tr><td>1805589089</td><td>1805589089</td><td>1805589089</td><td>18.4579</td><td>-532.1</td></tr>\n",
       "<tr><td>-1</td><td>-1</td><td>1805589460</td><td>17.52933</td><td>97.16</td></tr>\n",
       "<tr><td>1805589089</td><td>1805589089</td><td>1805589089</td><td>18.20446</td><td>-629.8</td></tr>\n",
       "<tr><td>1805589089</td><td>1805589089</td><td>1805589089</td><td>18.12643</td><td>-346.33</td></tr>\n",
       "<tr><td>1805589198</td><td>1805589089</td><td>1805589089</td><td>18.21831</td><td>-115.55</td></tr>\n",
       "<tr><td>...</td><td>...</td><td>...</td><td>...</td><td>...</td></tr>\n",
       "<tr><td>1818327532</td><td>1818327532</td><td>1818327532</td><td>224.98357</td><td>-365.07</td></tr>\n",
       "<tr><td>1818352402</td><td>1818352357</td><td>1818352357</td><td>245.43846</td><td>-135.57</td></tr>\n",
       "<tr><td>-1</td><td>-1</td><td>1818314110</td><td>213.64597</td><td>212.42</td></tr>\n",
       "<tr><td>1818295246</td><td>1818295250</td><td>1818295250</td><td>207.61368</td><td>82.45</td></tr>\n",
       "<tr><td>1818353158</td><td>1818353158</td><td>1818353158</td><td>247.22607</td><td>122.24</td></tr>\n",
       "<tr><td>1818311770</td><td>1818311770</td><td>1818311770</td><td>218.91487</td><td>-482.39</td></tr>\n",
       "<tr><td>-1</td><td>-1</td><td>1818312752</td><td>217.82092</td><td>-96.74</td></tr>\n",
       "<tr><td>1818327655</td><td>1818327655</td><td>1818327655</td><td>221.87311</td><td>-38.0</td></tr>\n",
       "<tr><td>-1</td><td>-1</td><td>1818336293</td><td>229.55841</td><td>-282.02</td></tr>\n",
       "<tr><td>-1</td><td>-1</td><td>1818314414</td><td>218.01546</td><td>-137.91</td></tr>\n",
       "</table></div>"
      ],
      "text/plain": [
       "<Table length=1420182>\n",
       " halo_pid  halo_upid  halo_hostid   halo_z  halo_vz\n",
       "  int64      int64       int64     float32  float32\n",
       "---------- ---------- ----------- --------- -------\n",
       "        -1         -1  1805589089  18.18657 -119.05\n",
       "1805589089 1805589089  1805589089  18.20386  -38.88\n",
       "1805589198 1805589089  1805589089  18.06294  262.81\n",
       "1805590461 1805589089  1805589089  17.87904 -382.43\n",
       "1805589089 1805589089  1805589089  18.35121   61.77\n",
       "1805589089 1805589089  1805589089   18.4579  -532.1\n",
       "        -1         -1  1805589460  17.52933   97.16\n",
       "1805589089 1805589089  1805589089  18.20446  -629.8\n",
       "1805589089 1805589089  1805589089  18.12643 -346.33\n",
       "1805589198 1805589089  1805589089  18.21831 -115.55\n",
       "       ...        ...         ...       ...     ...\n",
       "1818327532 1818327532  1818327532 224.98357 -365.07\n",
       "1818352402 1818352357  1818352357 245.43846 -135.57\n",
       "        -1         -1  1818314110 213.64597  212.42\n",
       "1818295246 1818295250  1818295250 207.61368   82.45\n",
       "1818353158 1818353158  1818353158 247.22607  122.24\n",
       "1818311770 1818311770  1818311770 218.91487 -482.39\n",
       "        -1         -1  1818312752 217.82092  -96.74\n",
       "1818327655 1818327655  1818327655 221.87311   -38.0\n",
       "        -1         -1  1818336293 229.55841 -282.02\n",
       "        -1         -1  1818314414 218.01546 -137.91"
      ]
     },
     "execution_count": 60,
     "metadata": {},
     "output_type": "execute_result"
    }
   ],
   "source": [
    "halos['halo_pid', 'halo_upid', 'halo_hostid', 'halo_z', 'halo_vz']"
   ]
  },
  {
   "cell_type": "code",
   "execution_count": 61,
   "id": "d6a0310e-9451-4681-87c1-5d380ccfc3a0",
   "metadata": {},
   "outputs": [
    {
     "data": {
      "text/html": [
       "&lt;Column name=&apos;halo_hostid&apos; dtype=&apos;int64&apos; length=2&gt;\n",
       "<table>\n",
       "<tr><td>1805589089</td></tr>\n",
       "<tr><td>1805589089</td></tr>\n",
       "</table>"
      ],
      "text/plain": [
       "<Column name='halo_hostid' dtype='int64' length=2>\n",
       "1805589089\n",
       "1805589089"
      ]
     },
     "execution_count": 61,
     "metadata": {},
     "output_type": "execute_result"
    }
   ],
   "source": [
    "halos['halo_hostid'][halos['halo_pid']==1805590461\t] # halo pid doesn't point to a specific upid or host id"
   ]
  },
  {
   "cell_type": "code",
   "execution_count": 62,
   "id": "b40bdc08-064f-4759-848a-1f7ce5b956ed",
   "metadata": {},
   "outputs": [
    {
     "name": "stderr",
     "output_type": "stream",
     "text": [
      "WARNING: AstropyDeprecationWarning: `astropy.cosmology.core.FLRW` has been moved (since v5.0) and should be imported as ``from astropy.cosmology import FLRW``. In future this will raise an exception. [astropy.cosmology.core]\n"
     ]
    }
   ],
   "source": [
    "zheng07_model.populate_mock(halocat)"
   ]
  },
  {
   "cell_type": "code",
   "execution_count": 63,
   "id": "609586b7-233b-4705-b475-b335eff26458",
   "metadata": {},
   "outputs": [],
   "source": [
    "galaxies = zheng07_model.mock.galaxy_table"
   ]
  },
  {
   "cell_type": "code",
   "execution_count": 64,
   "id": "b14f48ee-be7f-4256-ad79-ef04bb358667",
   "metadata": {},
   "outputs": [
    {
     "data": {
      "text/plain": [
       "(40710, 1420182)"
      ]
     },
     "execution_count": 64,
     "metadata": {},
     "output_type": "execute_result"
    }
   ],
   "source": [
    "len(galaxies), len(halos)"
   ]
  },
  {
   "cell_type": "code",
   "execution_count": 65,
   "id": "30438353-3a25-4c41-8dc8-3b9a2f683417",
   "metadata": {},
   "outputs": [
    {
     "name": "stdout",
     "output_type": "stream",
     "text": [
      "halo_upid halo_rvir  halo_vy  halo_y  ...    vz      x     host_centric_distance\n",
      "--------- ---------- ------- -------- ... ------- -------- ---------------------\n",
      "       -1  1.1571131  -11.95 43.13491 ... -119.05 35.73223                   0.0\n",
      "       -1   1.105502  490.94 47.97213 ... -152.86 45.00907                   0.0\n",
      "       -1  1.0630109  144.48 13.35399 ...  -69.74 21.62638                   0.0\n",
      "       -1 0.90204996  161.45 13.84255 ... -124.57 26.80523                   0.0\n",
      "       -1   0.929493  267.63 28.60934 ...   202.1  0.71409                   0.0\n",
      "       -1 0.92395097  212.12 25.34845 ... -216.25 10.51264                   0.0\n",
      "       -1   0.820718    92.3  36.3899 ... -435.21 12.90159                   0.0\n",
      "       -1   0.924992  171.66  6.15593 ...  -94.42  46.9032                   0.0\n",
      "       -1   0.866734  267.07 23.39546 ... -539.47 15.02275                   0.0\n"
     ]
    }
   ],
   "source": [
    "print(galaxies[0:9])"
   ]
  },
  {
   "cell_type": "code",
   "execution_count": 66,
   "id": "fd7306c4-011e-482b-bf1d-0f990b83d8aa",
   "metadata": {},
   "outputs": [
    {
     "name": "stdout",
     "output_type": "stream",
     "text": [
      "['halo_upid', 'halo_rvir', 'halo_vy', 'halo_y', 'conc_NFWmodel', 'halo_x', 'halo_mvir', 'halo_z', 'halo_vz', 'halo_id', 'halo_hostid', 'halo_vx', 'halo_num_centrals', 'halo_num_satellites', 'gal_type', 'z', 'y', 'vx', 'vy', 'vz', 'x', 'host_centric_distance']\n"
     ]
    }
   ],
   "source": [
    "print(galaxies.keys())"
   ]
  },
  {
   "cell_type": "code",
   "execution_count": 67,
   "id": "63365121-d4f9-4ab3-9ad1-d794a77bc306",
   "metadata": {},
   "outputs": [
    {
     "data": {
      "text/html": [
       "<div><i>Table length=40710</i>\n",
       "<table id=\"table139674782053808\" class=\"table-striped table-bordered table-condensed\">\n",
       "<thead><tr><th>halo_id</th><th>halo_hostid</th><th>halo_mvir</th><th>halo_upid</th><th>halo_num_centrals</th><th>halo_num_satellites</th><th>halo_z</th><th>halo_vz</th><th>gal_type</th><th>z</th><th>vz</th></tr></thead>\n",
       "<thead><tr><th>int64</th><th>int64</th><th>float32</th><th>int64</th><th>int32</th><th>int32</th><th>float32</th><th>float32</th><th>object</th><th>float32</th><th>float32</th></tr></thead>\n",
       "<tr><td>1805589089</td><td>1805589089</td><td>117300000000000.0</td><td>-1</td><td>1</td><td>17</td><td>18.18657</td><td>-119.05</td><td>centrals</td><td>18.18657</td><td>-119.05</td></tr>\n",
       "<tr><td>1805604915</td><td>1805604915</td><td>102300000000000.0</td><td>-1</td><td>1</td><td>8</td><td>40.30439</td><td>-152.86</td><td>centrals</td><td>40.30439</td><td>-152.86</td></tr>\n",
       "<tr><td>1803484120</td><td>1803484120</td><td>90970000000000.0</td><td>-1</td><td>1</td><td>11</td><td>9.67113</td><td>-69.74</td><td>centrals</td><td>9.67113</td><td>-69.74</td></tr>\n",
       "<tr><td>1803485520</td><td>1803485520</td><td>55590000000000.0</td><td>-1</td><td>1</td><td>10</td><td>5.36992</td><td>-124.57</td><td>centrals</td><td>5.36992</td><td>-124.57</td></tr>\n",
       "<tr><td>1803497704</td><td>1803497704</td><td>60820000000000.0</td><td>-1</td><td>1</td><td>6</td><td>16.9269</td><td>202.1</td><td>centrals</td><td>16.9269</td><td>202.1</td></tr>\n",
       "<tr><td>1803511225</td><td>1803511225</td><td>59740000000000.0</td><td>-1</td><td>1</td><td>5</td><td>23.38622</td><td>-216.25</td><td>centrals</td><td>23.38622</td><td>-216.25</td></tr>\n",
       "<tr><td>1803756359</td><td>1803756359</td><td>41870000000000.0</td><td>-1</td><td>1</td><td>3</td><td>35.39057</td><td>-435.21</td><td>centrals</td><td>35.39057</td><td>-435.21</td></tr>\n",
       "<tr><td>1805383224</td><td>1805383224</td><td>59940000000000.0</td><td>-1</td><td>1</td><td>5</td><td>41.96936</td><td>-94.42</td><td>centrals</td><td>41.96936</td><td>-94.42</td></tr>\n",
       "<tr><td>1803527194</td><td>1803527194</td><td>49310000000000.0</td><td>-1</td><td>1</td><td>7</td><td>40.50043</td><td>-539.47</td><td>centrals</td><td>40.50043</td><td>-539.47</td></tr>\n",
       "<tr><td>1803525841</td><td>1803525841</td><td>48370000000000.0</td><td>-1</td><td>1</td><td>4</td><td>34.83685</td><td>-555.31</td><td>centrals</td><td>34.83685</td><td>-555.31</td></tr>\n",
       "<tr><td>...</td><td>...</td><td>...</td><td>...</td><td>...</td><td>...</td><td>...</td><td>...</td><td>...</td><td>...</td><td>...</td></tr>\n",
       "<tr><td>1818315593</td><td>1818315593</td><td>763000000000.0</td><td>-1</td><td>0</td><td>1</td><td>217.43858</td><td>-37.89</td><td>satellites</td><td>217.48552</td><td>110.50428</td></tr>\n",
       "<tr><td>1818090294</td><td>1818090294</td><td>1174000000000.0</td><td>-1</td><td>0</td><td>1</td><td>214.52733</td><td>-63.33</td><td>satellites</td><td>214.54063</td><td>3.3631673</td></tr>\n",
       "<tr><td>1816510659</td><td>1816510659</td><td>1424000000000.0</td><td>-1</td><td>0</td><td>1</td><td>239.15718</td><td>-133.4</td><td>satellites</td><td>239.10912</td><td>-74.64769</td></tr>\n",
       "<tr><td>1816509443</td><td>1816509443</td><td>776200000000.0</td><td>-1</td><td>0</td><td>1</td><td>246.96716</td><td>76.32</td><td>satellites</td><td>246.95984</td><td>449.40955</td></tr>\n",
       "<tr><td>1818310457</td><td>1818310457</td><td>4512000000000.0</td><td>-1</td><td>0</td><td>1</td><td>215.60458</td><td>5.27</td><td>satellites</td><td>215.73872</td><td>63.418285</td></tr>\n",
       "<tr><td>1816507300</td><td>1816507300</td><td>1616000000000.0</td><td>-1</td><td>0</td><td>1</td><td>238.6528</td><td>-458.79</td><td>satellites</td><td>238.68301</td><td>-697.2722</td></tr>\n",
       "<tr><td>1818336695</td><td>1818336695</td><td>4017000000000.0</td><td>-1</td><td>0</td><td>1</td><td>231.39268</td><td>-452.21</td><td>satellites</td><td>231.37654</td><td>-406.80704</td></tr>\n",
       "<tr><td>1818105902</td><td>1818105902</td><td>811400000000.0</td><td>-1</td><td>0</td><td>1</td><td>221.56313</td><td>-233.81</td><td>satellites</td><td>221.48013</td><td>-272.7391</td></tr>\n",
       "<tr><td>1818294575</td><td>1818294575</td><td>737600000000.0</td><td>-1</td><td>0</td><td>1</td><td>203.99478</td><td>169.9</td><td>satellites</td><td>204.07288</td><td>127.54507</td></tr>\n",
       "<tr><td>1818326033</td><td>1818326033</td><td>3663000000000.0</td><td>-1</td><td>1</td><td>1</td><td>219.71559</td><td>159.84</td><td>satellites</td><td>220.0462</td><td>210.4797</td></tr>\n",
       "</table></div>"
      ],
      "text/plain": [
       "<Table length=40710>\n",
       " halo_id   halo_hostid     halo_mvir     ...  gal_type      z         vz    \n",
       "  int64       int64         float32      ...   object    float32   float32  \n",
       "---------- ----------- ----------------- ... ---------- --------- ----------\n",
       "1805589089  1805589089 117300000000000.0 ...   centrals  18.18657    -119.05\n",
       "1805604915  1805604915 102300000000000.0 ...   centrals  40.30439    -152.86\n",
       "1803484120  1803484120  90970000000000.0 ...   centrals   9.67113     -69.74\n",
       "1803485520  1803485520  55590000000000.0 ...   centrals   5.36992    -124.57\n",
       "1803497704  1803497704  60820000000000.0 ...   centrals   16.9269      202.1\n",
       "1803511225  1803511225  59740000000000.0 ...   centrals  23.38622    -216.25\n",
       "1803756359  1803756359  41870000000000.0 ...   centrals  35.39057    -435.21\n",
       "1805383224  1805383224  59940000000000.0 ...   centrals  41.96936     -94.42\n",
       "1803527194  1803527194  49310000000000.0 ...   centrals  40.50043    -539.47\n",
       "1803525841  1803525841  48370000000000.0 ...   centrals  34.83685    -555.31\n",
       "       ...         ...               ... ...        ...       ...        ...\n",
       "1818315593  1818315593    763000000000.0 ... satellites 217.48552  110.50428\n",
       "1818090294  1818090294   1174000000000.0 ... satellites 214.54063  3.3631673\n",
       "1816510659  1816510659   1424000000000.0 ... satellites 239.10912  -74.64769\n",
       "1816509443  1816509443    776200000000.0 ... satellites 246.95984  449.40955\n",
       "1818310457  1818310457   4512000000000.0 ... satellites 215.73872  63.418285\n",
       "1816507300  1816507300   1616000000000.0 ... satellites 238.68301  -697.2722\n",
       "1818336695  1818336695   4017000000000.0 ... satellites 231.37654 -406.80704\n",
       "1818105902  1818105902    811400000000.0 ... satellites 221.48013  -272.7391\n",
       "1818294575  1818294575    737600000000.0 ... satellites 204.07288  127.54507\n",
       "1818326033  1818326033   3663000000000.0 ... satellites  220.0462   210.4797"
      ]
     },
     "execution_count": 67,
     "metadata": {},
     "output_type": "execute_result"
    }
   ],
   "source": [
    "galaxies['halo_id', 'halo_hostid', 'halo_mvir', 'halo_upid', 'halo_num_centrals', 'halo_num_satellites', 'halo_z', 'halo_vz', 'gal_type', 'z', 'vz']"
   ]
  },
  {
   "cell_type": "code",
   "execution_count": 68,
   "id": "e968c2b8-3a31-4d1e-b05e-d778c26930f6",
   "metadata": {},
   "outputs": [
    {
     "data": {
      "text/plain": [
       "(40710, 1064633)"
      ]
     },
     "execution_count": 68,
     "metadata": {},
     "output_type": "execute_result"
    }
   ],
   "source": [
    "len(galaxies), len(halos[halos['halo_upid']==-1]) # so not every central halo gets a galaxy"
   ]
  },
  {
   "cell_type": "code",
   "execution_count": 69,
   "id": "cf6cde5a-dca1-4f66-9209-7964cf50f72b",
   "metadata": {},
   "outputs": [
    {
     "data": {
      "text/plain": [
       "False"
      ]
     },
     "execution_count": 69,
     "metadata": {},
     "output_type": "execute_result"
    }
   ],
   "source": [
    "np.max(galaxies['gal_type'][galaxies['x']!=galaxies['halo_x']]=='centrals') # only centrals have matching halo and galaxy positions and velocities"
   ]
  },
  {
   "cell_type": "code",
   "execution_count": 70,
   "id": "c0cee265-2006-4ff3-9ea5-5560874694d2",
   "metadata": {},
   "outputs": [
    {
     "data": {
      "text/html": [
       "<div><i>Table length=0</i>\n",
       "<table id=\"table139673958588320\" class=\"table-striped table-bordered table-condensed\">\n",
       "<thead><tr><th>halo_upid</th><th>halo_rvir</th><th>halo_vy</th><th>halo_y</th><th>conc_NFWmodel</th><th>halo_x</th><th>halo_mvir</th><th>halo_z</th><th>halo_vz</th><th>halo_id</th><th>halo_hostid</th><th>halo_vx</th><th>halo_num_centrals</th><th>halo_num_satellites</th><th>gal_type</th><th>z</th><th>y</th><th>vx</th><th>vy</th><th>vz</th><th>x</th><th>host_centric_distance</th></tr></thead>\n",
       "<thead><tr><th>int64</th><th>float32</th><th>float32</th><th>float32</th><th>float32</th><th>float32</th><th>float32</th><th>float32</th><th>float32</th><th>int64</th><th>int64</th><th>float32</th><th>int32</th><th>int32</th><th>object</th><th>float32</th><th>float32</th><th>float32</th><th>float32</th><th>float32</th><th>float32</th><th>float64</th></tr></thead>\n",
       "</table></div>"
      ],
      "text/plain": [
       "<Table length=0>\n",
       "halo_upid halo_rvir halo_vy  halo_y ...    vz      x    host_centric_distance\n",
       "  int64    float32  float32 float32 ... float32 float32        float64       \n",
       "--------- --------- ------- ------- ... ------- ------- ---------------------"
      ]
     },
     "execution_count": 70,
     "metadata": {},
     "output_type": "execute_result"
    }
   ],
   "source": [
    "galaxies[galaxies['halo_hostid']==1818294159] # halo_num_centrals and halo_num_satellites tells you number of centrals and halos in the host"
   ]
  },
  {
   "cell_type": "markdown",
   "id": "288caaa6-f0fb-410a-83ac-6de6757b1069",
   "metadata": {},
   "source": [
    "### Sanity check by plotting HOD"
   ]
  },
  {
   "cell_type": "code",
   "execution_count": 71,
   "id": "2de02ad2-c052-4a52-a49f-4e467cdfd87e",
   "metadata": {},
   "outputs": [],
   "source": [
    "halo_mass = np.logspace(11, 15, 100)"
   ]
  },
  {
   "cell_type": "code",
   "execution_count": 72,
   "id": "fd6a0fbd-c4f8-4cfc-a12b-7d5adc8212b5",
   "metadata": {},
   "outputs": [],
   "source": [
    "mean_ncen = zheng07_model.mean_occupation_centrals(prim_haloprop = halo_mass)\n",
    "mean_nsat = zheng07_model.mean_occupation_satellites(prim_haloprop = halo_mass)"
   ]
  },
  {
   "cell_type": "code",
   "execution_count": 73,
   "id": "6b7dca99-2a2b-459e-8f3d-0167f10a90f8",
   "metadata": {},
   "outputs": [
    {
     "data": {
      "text/html": [
       "<div><i>Table length=18</i>\n",
       "<table id=\"table139674782053232\" class=\"table-striped table-bordered table-condensed\">\n",
       "<thead><tr><th>halo_upid</th><th>halo_rvir</th><th>halo_vy</th><th>halo_y</th><th>conc_NFWmodel</th><th>halo_x</th><th>halo_mvir</th><th>halo_z</th><th>halo_vz</th><th>halo_id</th><th>halo_hostid</th><th>halo_vx</th><th>halo_num_centrals</th><th>halo_num_satellites</th><th>gal_type</th><th>z</th><th>y</th><th>vx</th><th>vy</th><th>vz</th><th>x</th><th>host_centric_distance</th></tr></thead>\n",
       "<thead><tr><th>int64</th><th>float32</th><th>float32</th><th>float32</th><th>float32</th><th>float32</th><th>float32</th><th>float32</th><th>float32</th><th>int64</th><th>int64</th><th>float32</th><th>int32</th><th>int32</th><th>object</th><th>float32</th><th>float32</th><th>float32</th><th>float32</th><th>float32</th><th>float32</th><th>float64</th></tr></thead>\n",
       "<tr><td>-1</td><td>1.1571131</td><td>-11.95</td><td>43.13491</td><td>7.580469</td><td>35.73223</td><td>117300000000000.0</td><td>18.18657</td><td>-119.05</td><td>1805589089</td><td>1805589089</td><td>1.78</td><td>1</td><td>17</td><td>centrals</td><td>18.18657</td><td>43.13491</td><td>1.78</td><td>-11.95</td><td>-119.05</td><td>35.73223</td><td>0.0</td></tr>\n",
       "<tr><td>-1</td><td>1.1571131</td><td>-11.95</td><td>43.13491</td><td>7.580469</td><td>35.73223</td><td>117300000000000.0</td><td>18.18657</td><td>-119.05</td><td>1805589089</td><td>1805589089</td><td>1.78</td><td>1</td><td>17</td><td>satellites</td><td>18.501947</td><td>42.428764</td><td>605.58234</td><td>760.9647</td><td>140.10521</td><td>35.207447</td><td>0.9346145244581914</td></tr>\n",
       "<tr><td>-1</td><td>1.1571131</td><td>-11.95</td><td>43.13491</td><td>7.580469</td><td>35.73223</td><td>117300000000000.0</td><td>18.18657</td><td>-119.05</td><td>1805589089</td><td>1805589089</td><td>1.78</td><td>1</td><td>17</td><td>satellites</td><td>18.112608</td><td>43.366016</td><td>94.93426</td><td>-376.16263</td><td>-242.09369</td><td>34.936172</td><td>0.8322216742689195</td></tr>\n",
       "<tr><td>-1</td><td>1.1571131</td><td>-11.95</td><td>43.13491</td><td>7.580469</td><td>35.73223</td><td>117300000000000.0</td><td>18.18657</td><td>-119.05</td><td>1805589089</td><td>1805589089</td><td>1.78</td><td>1</td><td>17</td><td>satellites</td><td>18.083735</td><td>42.94343</td><td>-654.09625</td><td>520.1941</td><td>-293.91846</td><td>35.80465</td><td>0.22909402418743186</td></tr>\n",
       "<tr><td>-1</td><td>1.1571131</td><td>-11.95</td><td>43.13491</td><td>7.580469</td><td>35.73223</td><td>117300000000000.0</td><td>18.18657</td><td>-119.05</td><td>1805589089</td><td>1805589089</td><td>1.78</td><td>1</td><td>17</td><td>satellites</td><td>18.611034</td><td>43.31576</td><td>241.30017</td><td>186.9321</td><td>-362.22174</td><td>35.620575</td><td>0.4747053108885516</td></tr>\n",
       "<tr><td>-1</td><td>1.1571131</td><td>-11.95</td><td>43.13491</td><td>7.580469</td><td>35.73223</td><td>117300000000000.0</td><td>18.18657</td><td>-119.05</td><td>1805589089</td><td>1805589089</td><td>1.78</td><td>1</td><td>17</td><td>satellites</td><td>18.928734</td><td>43.76807</td><td>-388.92807</td><td>760.79834</td><td>-30.202364</td><td>35.27629</td><td>1.076838386176688</td></tr>\n",
       "<tr><td>-1</td><td>1.1571131</td><td>-11.95</td><td>43.13491</td><td>7.580469</td><td>35.73223</td><td>117300000000000.0</td><td>18.18657</td><td>-119.05</td><td>1805589089</td><td>1805589089</td><td>1.78</td><td>1</td><td>17</td><td>satellites</td><td>17.83619</td><td>42.30154</td><td>-218.74768</td><td>64.93341</td><td>276.34738</td><td>35.507217</td><td>0.9316125178934255</td></tr>\n",
       "<tr><td>-1</td><td>1.1571131</td><td>-11.95</td><td>43.13491</td><td>7.580469</td><td>35.73223</td><td>117300000000000.0</td><td>18.18657</td><td>-119.05</td><td>1805589089</td><td>1805589089</td><td>1.78</td><td>1</td><td>17</td><td>satellites</td><td>18.090141</td><td>43.198475</td><td>-11.72509</td><td>78.456505</td><td>-59.117443</td><td>35.88027</td><td>0.1877593985516916</td></tr>\n",
       "<tr><td>-1</td><td>1.1571131</td><td>-11.95</td><td>43.13491</td><td>7.580469</td><td>35.73223</td><td>117300000000000.0</td><td>18.18657</td><td>-119.05</td><td>1805589089</td><td>1805589089</td><td>1.78</td><td>1</td><td>17</td><td>satellites</td><td>18.208378</td><td>43.03955</td><td>-695.9151</td><td>703.4736</td><td>-295.34265</td><td>35.810818</td><td>0.12547762420788733</td></tr>\n",
       "<tr><td>-1</td><td>1.1571131</td><td>-11.95</td><td>43.13491</td><td>7.580469</td><td>35.73223</td><td>117300000000000.0</td><td>18.18657</td><td>-119.05</td><td>1805589089</td><td>1805589089</td><td>1.78</td><td>1</td><td>17</td><td>satellites</td><td>18.224894</td><td>43.199226</td><td>-1129.0604</td><td>-663.67426</td><td>-43.934418</td><td>35.67764</td><td>0.09265817830292565</td></tr>\n",
       "<tr><td>-1</td><td>1.1571131</td><td>-11.95</td><td>43.13491</td><td>7.580469</td><td>35.73223</td><td>117300000000000.0</td><td>18.18657</td><td>-119.05</td><td>1805589089</td><td>1805589089</td><td>1.78</td><td>1</td><td>17</td><td>satellites</td><td>18.230856</td><td>42.952187</td><td>691.4569</td><td>121.09626</td><td>-253.5822</td><td>35.78087</td><td>0.19420180207165377</td></tr>\n",
       "<tr><td>-1</td><td>1.1571131</td><td>-11.95</td><td>43.13491</td><td>7.580469</td><td>35.73223</td><td>117300000000000.0</td><td>18.18657</td><td>-119.05</td><td>1805589089</td><td>1805589089</td><td>1.78</td><td>1</td><td>17</td><td>satellites</td><td>18.214817</td><td>43.192436</td><td>-117.25131</td><td>201.49245</td><td>1090.8538</td><td>35.384415</td><td>0.3536716908517298</td></tr>\n",
       "<tr><td>-1</td><td>1.1571131</td><td>-11.95</td><td>43.13491</td><td>7.580469</td><td>35.73223</td><td>117300000000000.0</td><td>18.18657</td><td>-119.05</td><td>1805589089</td><td>1805589089</td><td>1.78</td><td>1</td><td>17</td><td>satellites</td><td>18.421988</td><td>43.16671</td><td>-142.23528</td><td>-320.0371</td><td>-63.421528</td><td>35.490887</td><td>0.338644137488527</td></tr>\n",
       "<tr><td>-1</td><td>1.1571131</td><td>-11.95</td><td>43.13491</td><td>7.580469</td><td>35.73223</td><td>117300000000000.0</td><td>18.18657</td><td>-119.05</td><td>1805589089</td><td>1805589089</td><td>1.78</td><td>1</td><td>17</td><td>satellites</td><td>18.442453</td><td>43.37289</td><td>276.28354</td><td>-98.62567</td><td>-216.59856</td><td>35.85439</td><td>0.3701808684946319</td></tr>\n",
       "<tr><td>-1</td><td>1.1571131</td><td>-11.95</td><td>43.13491</td><td>7.580469</td><td>35.73223</td><td>117300000000000.0</td><td>18.18657</td><td>-119.05</td><td>1805589089</td><td>1805589089</td><td>1.78</td><td>1</td><td>17</td><td>satellites</td><td>18.083082</td><td>43.076237</td><td>539.7155</td><td>-641.46027</td><td>242.27373</td><td>35.81341</td><td>0.1440221528163005</td></tr>\n",
       "<tr><td>-1</td><td>1.1571131</td><td>-11.95</td><td>43.13491</td><td>7.580469</td><td>35.73223</td><td>117300000000000.0</td><td>18.18657</td><td>-119.05</td><td>1805589089</td><td>1805589089</td><td>1.78</td><td>1</td><td>17</td><td>satellites</td><td>18.252241</td><td>43.10547</td><td>-639.74896</td><td>227.93716</td><td>-563.7887</td><td>35.745956</td><td>0.07326548083056891</td></tr>\n",
       "<tr><td>-1</td><td>1.1571131</td><td>-11.95</td><td>43.13491</td><td>7.580469</td><td>35.73223</td><td>117300000000000.0</td><td>18.18657</td><td>-119.05</td><td>1805589089</td><td>1805589089</td><td>1.78</td><td>1</td><td>17</td><td>satellites</td><td>18.239105</td><td>43.665207</td><td>-240.08986</td><td>-131.73659</td><td>-251.24191</td><td>35.267223</td><td>0.7072507606411508</td></tr>\n",
       "<tr><td>-1</td><td>1.1571131</td><td>-11.95</td><td>43.13491</td><td>7.580469</td><td>35.73223</td><td>117300000000000.0</td><td>18.18657</td><td>-119.05</td><td>1805589089</td><td>1805589089</td><td>1.78</td><td>1</td><td>17</td><td>satellites</td><td>18.644745</td><td>42.653862</td><td>-482.6734</td><td>239.13342</td><td>-192.25804</td><td>36.518894</td><td>1.0296461527794776</td></tr>\n",
       "</table></div>"
      ],
      "text/plain": [
       "<Table length=18>\n",
       "halo_upid halo_rvir halo_vy ...     vz         x     host_centric_distance\n",
       "  int64    float32  float32 ...  float32    float32         float64       \n",
       "--------- --------- ------- ... ---------- --------- ---------------------\n",
       "       -1 1.1571131  -11.95 ...    -119.05  35.73223                   0.0\n",
       "       -1 1.1571131  -11.95 ...  140.10521 35.207447    0.9346145244581914\n",
       "       -1 1.1571131  -11.95 ... -242.09369 34.936172    0.8322216742689195\n",
       "       -1 1.1571131  -11.95 ... -293.91846  35.80465   0.22909402418743186\n",
       "       -1 1.1571131  -11.95 ... -362.22174 35.620575    0.4747053108885516\n",
       "       -1 1.1571131  -11.95 ... -30.202364  35.27629     1.076838386176688\n",
       "       -1 1.1571131  -11.95 ...  276.34738 35.507217    0.9316125178934255\n",
       "       -1 1.1571131  -11.95 ... -59.117443  35.88027    0.1877593985516916\n",
       "       -1 1.1571131  -11.95 ... -295.34265 35.810818   0.12547762420788733\n",
       "       -1 1.1571131  -11.95 ... -43.934418  35.67764   0.09265817830292565\n",
       "       -1 1.1571131  -11.95 ...  -253.5822  35.78087   0.19420180207165377\n",
       "       -1 1.1571131  -11.95 ...  1090.8538 35.384415    0.3536716908517298\n",
       "       -1 1.1571131  -11.95 ... -63.421528 35.490887     0.338644137488527\n",
       "       -1 1.1571131  -11.95 ... -216.59856  35.85439    0.3701808684946319\n",
       "       -1 1.1571131  -11.95 ...  242.27373  35.81341    0.1440221528163005\n",
       "       -1 1.1571131  -11.95 ...  -563.7887 35.745956   0.07326548083056891\n",
       "       -1 1.1571131  -11.95 ... -251.24191 35.267223    0.7072507606411508\n",
       "       -1 1.1571131  -11.95 ... -192.25804 36.518894    1.0296461527794776"
      ]
     },
     "execution_count": 73,
     "metadata": {},
     "output_type": "execute_result"
    }
   ],
   "source": [
    "galaxies[galaxies['halo_hostid']==1805589089]"
   ]
  },
  {
   "cell_type": "code",
   "execution_count": 74,
   "id": "07ea87a6-d75f-4910-9787-96941093caa6",
   "metadata": {},
   "outputs": [],
   "source": [
    "def hod(galaxies_unique, halo_mass, linestyle = '--'):\n",
    "    \n",
    "    ind = np.digitize(galaxies_unique['halo_mvir'], halo_mass) # bin the halo masses\n",
    "    mean_ncen_mock = [np.sum(galaxies_unique['halo_num_centrals'][ind == i])/len(galaxies_unique['halo_num_centrals'][ind == i]) for i in range(len(halo_mass))]\n",
    "    mean_nsat_mock = [np.sum(galaxies_unique['halo_num_satellites'][ind == i])/len(galaxies_unique['halo_num_satellites'][ind == i]) for i in range(len(halo_mass))]\n",
    "    \n",
    "    plt.plot(halo_mass, mean_ncen_mock, label = 'centrals, mock', linestyle = linestyle)\n",
    "    plt.plot(halo_mass, mean_nsat_mock, label = 'satellites, mock', linestyle = linestyle)\n",
    "    plt.plot(halo_mass, np.add(mean_ncen_mock, mean_nsat_mock), label = 'total, mock', linestyle = linestyle)\n",
    "    \n",
    "    return mean_ncen_mock, mean_nsat_mock"
   ]
  },
  {
   "cell_type": "code",
   "execution_count": 75,
   "id": "56e796f0-9753-45ca-a28f-c4fb9b1ae70e",
   "metadata": {},
   "outputs": [],
   "source": [
    "unique_hostid, hostid_ind = np.unique(galaxies['halo_hostid'], return_index = True)"
   ]
  },
  {
   "cell_type": "code",
   "execution_count": 76,
   "id": "67d028a3-f2bf-47fd-9dc2-7728d86c11d4",
   "metadata": {},
   "outputs": [],
   "source": [
    "halos_unique = zheng07_model.mock.halo_table"
   ]
  },
  {
   "cell_type": "code",
   "execution_count": 77,
   "id": "fdf2d4fc-efe3-450f-b678-ad4dcfdb0f79",
   "metadata": {},
   "outputs": [],
   "source": [
    "# follow tutorial: https://halotools.readthedocs.io/en/latest/api/halotools.mock_observables.hod_from_mock.html\n",
    "# this is more accurate than previous method because you're includig the halos that have no galaxies vs all have centrals\n",
    "cenmask = galaxies['gal_type'] == 'centrals'\n",
    "central_host_mass = galaxies['halo_mvir'][cenmask]\n",
    "halo_masses = halos_unique['halo_mvir']\n",
    "haloprop_bins = np.logspace(11, 15, 15)\n",
    "mean_ncen_hod, bin_edges = hod_from_mock(central_host_mass, halo_masses, halo_mass)"
   ]
  },
  {
   "cell_type": "code",
   "execution_count": 78,
   "id": "1c68bcfa-444f-4ffe-9861-e40cb9fd5e65",
   "metadata": {},
   "outputs": [],
   "source": [
    "satmask = galaxies['gal_type'] == 'satellites'\n",
    "satellite_host_mass = galaxies['halo_mvir'][satmask]\n",
    "mean_nsat_hod, bin_edges = hod_from_mock(satellite_host_mass, halo_masses, halo_mass)"
   ]
  },
  {
   "cell_type": "code",
   "execution_count": 79,
   "id": "b6c1333b-2721-4af7-b1c7-cb4b97f7fea5",
   "metadata": {},
   "outputs": [],
   "source": [
    "def recenter(bins):\n",
    "    return 0.5*(bins[1:]+bins[:-1])"
   ]
  },
  {
   "cell_type": "code",
   "execution_count": 80,
   "id": "2199274f-c2ed-475e-b19e-f92a8bce6aa6",
   "metadata": {},
   "outputs": [
    {
     "data": {
      "image/png": "[encoded data removed]",
      "text/plain": [
       "<Figure size 432x288 with 1 Axes>"
      ]
     },
     "metadata": {
      "needs_background": "light"
     },
     "output_type": "display_data"
    }
   ],
   "source": [
    "# plt.plot(halo_mass, mean_ncen, label = 'centrals')\n",
    "# plt.plot(halo_mass, mean_nsat, label = 'satellites')\n",
    "# plt.plot(halo_mass, mean_ncen+mean_nsat, label = 'total')\n",
    "# mean_ncen_mock, mean_nsat_mock = hod(galaxies[hostid_ind], halo_mass)\n",
    "mean_ncen_mock_unique, mean_nsat_mock_unique = hod(halos_unique, halo_mass) \n",
    "# plt.plot(halo_mass, mean_ncen_mock, label = 'centrals, mock', linestyle = '--')\n",
    "# plt.plot(halo_mass, mean_nsat_mock, label = 'satellites, mock', linestyle = '--')\n",
    "# plt.plot(halo_mass, np.add(mean_ncen_mock,mean_nsat_mock), label = 'total, mock', linestyle = '--')\n",
    "plt.plot(halo_mass[1:], mean_ncen_hod, label = 'centrals')\n",
    "plt.plot(halo_mass[1:], mean_nsat_hod, label = 'satellites')\n",
    "plt.plot(halo_mass[1:], mean_ncen_hod+mean_nsat_hod, label = 'total')\n",
    "plt.xlabel('$M_\\mathrm{vir}$')\n",
    "plt.ylabel(r'$\\langle N \\rangle$')\n",
    "plt.xscale('log')\n",
    "plt.yscale('log')\n",
    "plt.legend()\n",
    "plt.show()"
   ]
  },
  {
   "cell_type": "markdown",
   "id": "441da4c9-1923-4cbf-8372-57802008a732",
   "metadata": {},
   "source": [
    "## Measure the median clustering signal from a prebuilt mock"
   ]
  },
  {
   "cell_type": "code",
   "execution_count": 81,
   "id": "2b83334b-69d1-4ae1-a5b3-190d18b876ad",
   "metadata": {},
   "outputs": [
    {
     "name": "stderr",
     "output_type": "stream",
     "text": [
      "WARNING: AstropyDeprecationWarning: `astropy.cosmology.core.FLRW` has been moved (since v5.0) and should be imported as ``from astropy.cosmology import FLRW``. In future this will raise an exception. [astropy.cosmology.core]\n",
      "WARNING: AstropyDeprecationWarning: `astropy.cosmology.core.FLRW` has been moved (since v5.0) and should be imported as ``from astropy.cosmology import FLRW``. In future this will raise an exception. [astropy.cosmology.core]\n",
      "WARNING: AstropyDeprecationWarning: `astropy.cosmology.core.FLRW` has been moved (since v5.0) and should be imported as ``from astropy.cosmology import FLRW``. In future this will raise an exception. [astropy.cosmology.core]\n"
     ]
    }
   ],
   "source": [
    "r, xi_cc, xi_cs, xi_ss = zheng07_model.compute_average_galaxy_clustering(gal_type = 'centrals', include_crosscorr = True, num_iterations = 3, num_threads = 'max')"
   ]
  },
  {
   "cell_type": "code",
   "execution_count": 82,
   "id": "301c4531-505c-446e-b37d-5271da21780a",
   "metadata": {},
   "outputs": [
    {
     "name": "stderr",
     "output_type": "stream",
     "text": [
      "WARNING: AstropyDeprecationWarning: `astropy.cosmology.core.FLRW` has been moved (since v5.0) and should be imported as ``from astropy.cosmology import FLRW``. In future this will raise an exception. [astropy.cosmology.core]\n",
      "WARNING: AstropyDeprecationWarning: `astropy.cosmology.core.FLRW` has been moved (since v5.0) and should be imported as ``from astropy.cosmology import FLRW``. In future this will raise an exception. [astropy.cosmology.core]\n",
      "WARNING: AstropyDeprecationWarning: `astropy.cosmology.core.FLRW` has been moved (since v5.0) and should be imported as ``from astropy.cosmology import FLRW``. In future this will raise an exception. [astropy.cosmology.core]\n"
     ]
    }
   ],
   "source": [
    "r, xi_cc_auto = zheng07_model.compute_average_galaxy_clustering(gal_type = 'centrals', include_crosscorr = False, num_iterations = 3, num_threads = 'max')"
   ]
  },
  {
   "cell_type": "code",
   "execution_count": 83,
   "id": "c381db87-e3a0-4b10-b0e6-c4f73412ce6c",
   "metadata": {},
   "outputs": [
    {
     "name": "stderr",
     "output_type": "stream",
     "text": [
      "WARNING: AstropyDeprecationWarning: `astropy.cosmology.core.FLRW` has been moved (since v5.0) and should be imported as ``from astropy.cosmology import FLRW``. In future this will raise an exception. [astropy.cosmology.core]\n",
      "WARNING: AstropyDeprecationWarning: `astropy.cosmology.core.FLRW` has been moved (since v5.0) and should be imported as ``from astropy.cosmology import FLRW``. In future this will raise an exception. [astropy.cosmology.core]\n",
      "WARNING: AstropyDeprecationWarning: `astropy.cosmology.core.FLRW` has been moved (since v5.0) and should be imported as ``from astropy.cosmology import FLRW``. In future this will raise an exception. [astropy.cosmology.core]\n"
     ]
    }
   ],
   "source": [
    "r, xi_ss_auto = zheng07_model.compute_average_galaxy_clustering(gal_type = 'satellites', include_crosscorr = False, num_iterations = 3, num_threads = 'max')"
   ]
  },
  {
   "cell_type": "code",
   "execution_count": 84,
   "id": "8c37022d-a6e3-4945-a67a-2475af21bf02",
   "metadata": {},
   "outputs": [
    {
     "name": "stderr",
     "output_type": "stream",
     "text": [
      "WARNING: AstropyDeprecationWarning: `astropy.cosmology.core.FLRW` has been moved (since v5.0) and should be imported as ``from astropy.cosmology import FLRW``. In future this will raise an exception. [astropy.cosmology.core]\n",
      "WARNING: AstropyDeprecationWarning: `astropy.cosmology.core.FLRW` has been moved (since v5.0) and should be imported as ``from astropy.cosmology import FLRW``. In future this will raise an exception. [astropy.cosmology.core]\n",
      "WARNING: AstropyDeprecationWarning: `astropy.cosmology.core.FLRW` has been moved (since v5.0) and should be imported as ``from astropy.cosmology import FLRW``. In future this will raise an exception. [astropy.cosmology.core]\n"
     ]
    }
   ],
   "source": [
    "r, xi = zheng07_model.compute_average_galaxy_clustering(include_crosscorr = False, num_iterations = 3, num_threads = 'max')"
   ]
  },
  {
   "cell_type": "code",
   "execution_count": 85,
   "id": "e26ca06a-6e0f-4e5e-a462-3ffd814d9acb",
   "metadata": {},
   "outputs": [
    {
     "data": {
      "image/png": "[encoded data removed]",
      "text/plain": [
       "<Figure size 432x288 with 1 Axes>"
      ]
     },
     "metadata": {
      "needs_background": "light"
     },
     "output_type": "display_data"
    },
    {
     "data": {
      "image/png": "[encoded data removed]",
      "text/plain": [
       "<Figure size 432x288 with 1 Axes>"
      ]
     },
     "metadata": {
      "needs_background": "light"
     },
     "output_type": "display_data"
    },
    {
     "data": {
      "image/png": "[encoded data removed]",
      "text/plain": [
       "<Figure size 432x288 with 1 Axes>"
      ]
     },
     "metadata": {
      "needs_background": "light"
     },
     "output_type": "display_data"
    },
    {
     "data": {
      "image/png": "[encoded data removed]",
      "text/plain": [
       "<Figure size 432x288 with 1 Axes>"
      ]
     },
     "metadata": {
      "needs_background": "light"
     },
     "output_type": "display_data"
    }
   ],
   "source": [
    "plt.plot(r, xi, label = 'all galaxies')\n",
    "plt.plot(r, xi_cc_auto, label = 'CC, cross correlation')\n",
    "plt.plot(r, xi_cc, label = 'CC, no cross correlation', linestyle = '--')\n",
    "plt.xlabel('r')\n",
    "plt.ylabel(r'$\\xi(r)$')\n",
    "plt.xscale('log')\n",
    "plt.yscale('log')\n",
    "plt.legend()\n",
    "plt.show()\n",
    "\n",
    "plt.plot(r, xi, label = 'all galaxies')\n",
    "plt.plot(r, xi_cs, label = 'CS, cross correlation')\n",
    "plt.legend()\n",
    "plt.xlabel('r')\n",
    "plt.ylabel(r'$\\xi(r)$')\n",
    "plt.xscale('log')\n",
    "plt.yscale('log')\n",
    "plt.show()\n",
    "\n",
    "plt.plot(r, xi, label = 'all galaxies')\n",
    "plt.plot(r, xi_ss_auto, label = 'SS, cross correlation')\n",
    "plt.plot(r, xi_ss, label = 'SS, no cross correlation', linestyle = '--')\n",
    "plt.xlabel('r')\n",
    "plt.ylabel(r'$\\xi(r)$')\n",
    "plt.xscale('log')\n",
    "plt.yscale('log')\n",
    "plt.legend()\n",
    "plt.show()\n",
    "\n",
    "plt.plot(r, xi)\n",
    "plt.title('all galaxies')\n",
    "plt.xlabel('r')\n",
    "plt.ylabel(r'$\\xi(r)$')\n",
    "plt.xscale('log')\n",
    "plt.yscale('log')\n",
    "plt.show()"
   ]
  },
  {
   "cell_type": "markdown",
   "id": "ae917c4a-ed3e-4550-8718-f9e2e96ed6bc",
   "metadata": {},
   "source": [
    "# Questions\n",
    "- halo_pid points to any specific subhalo? or it just tells you it's a sub-subhalo?\n",
    "- halo_id vs halo_hostid for galaxies?\n",
    "- halo_x vs x for galaxies? halo_vx vs vx? just host halo vs central galaxy?\n",
    "- do i need to design my own galaxy-halo model?\n",
    "- will I use halo_tools clustering or corrfunc clustering? \n",
    "    - compute_average_galaxy_clustering shouldn't be used in MCMC, and wp function doesn't work on observable data... how do you use halotools with corrfunc?\n",
    "- confused about bin edges?"
   ]
  },
  {
   "cell_type": "code",
   "execution_count": null,
   "id": "14392310-0a28-47a1-a2ce-af9ba417d8ac",
   "metadata": {},
   "outputs": [],
   "source": []
  }
 ],
 "metadata": {
  "kernelspec": {
   "display_name": "Python (jupyter-env)",
   "language": "python",
   "name": "jupyter-env"
  },
  "language_info": {
   "codemirror_mode": {
    "name": "ipython",
    "version": 3
   },
   "file_extension": ".py",
   "mimetype": "text/x-python",
   "name": "python",
   "nbconvert_exporter": "python",
   "pygments_lexer": "ipython3",
   "version": "3.8.16"
  }
 },
 "nbformat": 4,
 "nbformat_minor": 5
}
