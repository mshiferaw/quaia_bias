{
 "cells": [
  {
   "cell_type": "code",
   "execution_count": 150,
   "id": "5096850b-5f6f-4d01-b3c8-38d48df8834a",
   "metadata": {},
   "outputs": [],
   "source": [
    "from halotools.sim_manager import CachedHaloCatalog\n",
    "from halotools.empirical_models import PrebuiltHodModelFactory\n",
    "import numpy as np\n",
    "from matplotlib import pyplot as plt\n",
    "from halotools import mock_observables"
   ]
  },
  {
   "cell_type": "markdown",
   "id": "9efea86a-38f2-406e-827c-4609c4f2247f",
   "metadata": {},
   "source": [
    "# Build models and make mocks\n",
    "## Use prebuilt model provided by halotools"
   ]
  },
  {
   "cell_type": "code",
   "execution_count": 2,
   "id": "e8c9b767-97bd-4c49-b4fa-2a101ea24926",
   "metadata": {},
   "outputs": [
    {
     "name": "stderr",
     "output_type": "stream",
     "text": [
      "WARNING: AstropyDeprecationWarning: `astropy.cosmology.core.FLRW` has been moved (since v5.0) and should be imported as ``from astropy.cosmology import FLRW``. In future this will raise an exception. [astropy.cosmology.core]\n"
     ]
    }
   ],
   "source": [
    "zheng07_model = PrebuiltHodModelFactory('zheng07', threshold = -19.5, redshift = 0.5)"
   ]
  },
  {
   "cell_type": "code",
   "execution_count": 16,
   "id": "07cd9de9-a7b6-49e0-af09-2e132251e483",
   "metadata": {},
   "outputs": [],
   "source": [
    "halocat = CachedHaloCatalog(simname = 'bolshoi', redshift = 0.5)"
   ]
  },
  {
   "cell_type": "code",
   "execution_count": 17,
   "id": "c5667c36-4dcd-424e-a089-555427ccd584",
   "metadata": {},
   "outputs": [],
   "source": [
    "halos = halocat.halo_table"
   ]
  },
  {
   "cell_type": "code",
   "execution_count": 30,
   "id": "7826db85-47a6-429b-a5d9-0bfbe0b4e625",
   "metadata": {},
   "outputs": [
    {
     "name": "stdout",
     "output_type": "stream",
     "text": [
      "halo_vmax_firstacc halo_dmvir_dt_tdyn ... halo_hostid halo_mvir_host_halo\n",
      "------------------ ------------------ ... ----------- -------------------\n",
      "            917.78             6630.0 ...  1805589089   117300000000000.0\n",
      "            100.65              280.6 ...  1805589089   117300000000000.0\n",
      "              91.4             -3.247 ...  1805589089   117300000000000.0\n",
      "             63.53              1.725 ...  1805589089   117300000000000.0\n",
      "            264.93             -57.76 ...  1805589089   117300000000000.0\n",
      "             87.28            -0.4211 ...  1805589089   117300000000000.0\n",
      "             92.93             -2.533 ...  1805589460       27670000000.0\n",
      "             84.96             -1.642 ...  1805589089   117300000000000.0\n",
      "            121.69             -3.265 ...  1805589089   117300000000000.0\n"
     ]
    }
   ],
   "source": [
    "print(halos[0:9])"
   ]
  },
  {
   "cell_type": "code",
   "execution_count": 28,
   "id": "e7288229-be07-4213-a301-7c4efdaa9360",
   "metadata": {},
   "outputs": [
    {
     "name": "stdout",
     "output_type": "stream",
     "text": [
      "['halo_vmax_firstacc', 'halo_dmvir_dt_tdyn', 'halo_macc', 'halo_scale_factor', 'halo_vmax_mpeak', 'halo_m_pe_behroozi', 'halo_xoff', 'halo_spin', 'halo_scale_factor_firstacc', 'halo_c_to_a', 'halo_mvir_firstacc', 'halo_scale_factor_last_mm', 'halo_scale_factor_mpeak', 'halo_pid', 'halo_m500c', 'halo_id', 'halo_halfmass_scale_factor', 'halo_upid', 'halo_t_by_u', 'halo_rvir', 'halo_vpeak', 'halo_dmvir_dt_100myr', 'halo_mpeak', 'halo_m_pe_diemer', 'halo_jx', 'halo_jy', 'halo_jz', 'halo_m2500c', 'halo_mvir', 'halo_voff', 'halo_axisA_z', 'halo_axisA_x', 'halo_axisA_y', 'halo_y', 'halo_b_to_a', 'halo_x', 'halo_z', 'halo_m200b', 'halo_vacc', 'halo_scale_factor_lastacc', 'halo_vmax', 'halo_m200c', 'halo_vx', 'halo_vy', 'halo_vz', 'halo_dmvir_dt_inst', 'halo_rs', 'halo_nfw_conc', 'halo_hostid', 'halo_mvir_host_halo']\n"
     ]
    }
   ],
   "source": [
    "print(halos.keys())"
   ]
  },
  {
   "cell_type": "code",
   "execution_count": 96,
   "id": "8f650b05-1fe3-42af-8acb-20c8eae74632",
   "metadata": {},
   "outputs": [
    {
     "data": {
      "text/html": [
       "<div><i>Table length=1420182</i>\n",
       "<table id=\"table140173686451888\" class=\"table-striped table-bordered table-condensed\">\n",
       "<thead><tr><th>halo_pid</th><th>halo_upid</th><th>halo_hostid</th><th>halo_z</th><th>halo_vz</th></tr></thead>\n",
       "<thead><tr><th>int64</th><th>int64</th><th>int64</th><th>float32</th><th>float32</th></tr></thead>\n",
       "<tr><td>-1</td><td>-1</td><td>1805589089</td><td>18.18657</td><td>-119.05</td></tr>\n",
       "<tr><td>1805589089</td><td>1805589089</td><td>1805589089</td><td>18.20386</td><td>-38.88</td></tr>\n",
       "<tr><td>1805589198</td><td>1805589089</td><td>1805589089</td><td>18.06294</td><td>262.81</td></tr>\n",
       "<tr><td>1805590461</td><td>1805589089</td><td>1805589089</td><td>17.87904</td><td>-382.43</td></tr>\n",
       "<tr><td>1805589089</td><td>1805589089</td><td>1805589089</td><td>18.35121</td><td>61.77</td></tr>\n",
       "<tr><td>1805589089</td><td>1805589089</td><td>1805589089</td><td>18.4579</td><td>-532.1</td></tr>\n",
       "<tr><td>-1</td><td>-1</td><td>1805589460</td><td>17.52933</td><td>97.16</td></tr>\n",
       "<tr><td>1805589089</td><td>1805589089</td><td>1805589089</td><td>18.20446</td><td>-629.8</td></tr>\n",
       "<tr><td>1805589089</td><td>1805589089</td><td>1805589089</td><td>18.12643</td><td>-346.33</td></tr>\n",
       "<tr><td>1805589198</td><td>1805589089</td><td>1805589089</td><td>18.21831</td><td>-115.55</td></tr>\n",
       "<tr><td>...</td><td>...</td><td>...</td><td>...</td><td>...</td></tr>\n",
       "<tr><td>1818327532</td><td>1818327532</td><td>1818327532</td><td>224.98357</td><td>-365.07</td></tr>\n",
       "<tr><td>1818352402</td><td>1818352357</td><td>1818352357</td><td>245.43846</td><td>-135.57</td></tr>\n",
       "<tr><td>-1</td><td>-1</td><td>1818314110</td><td>213.64597</td><td>212.42</td></tr>\n",
       "<tr><td>1818295246</td><td>1818295250</td><td>1818295250</td><td>207.61368</td><td>82.45</td></tr>\n",
       "<tr><td>1818353158</td><td>1818353158</td><td>1818353158</td><td>247.22607</td><td>122.24</td></tr>\n",
       "<tr><td>1818311770</td><td>1818311770</td><td>1818311770</td><td>218.91487</td><td>-482.39</td></tr>\n",
       "<tr><td>-1</td><td>-1</td><td>1818312752</td><td>217.82092</td><td>-96.74</td></tr>\n",
       "<tr><td>1818327655</td><td>1818327655</td><td>1818327655</td><td>221.87311</td><td>-38.0</td></tr>\n",
       "<tr><td>-1</td><td>-1</td><td>1818336293</td><td>229.55841</td><td>-282.02</td></tr>\n",
       "<tr><td>-1</td><td>-1</td><td>1818314414</td><td>218.01546</td><td>-137.91</td></tr>\n",
       "</table></div>"
      ],
      "text/plain": [
       "<Table length=1420182>\n",
       " halo_pid  halo_upid  halo_hostid   halo_z  halo_vz\n",
       "  int64      int64       int64     float32  float32\n",
       "---------- ---------- ----------- --------- -------\n",
       "        -1         -1  1805589089  18.18657 -119.05\n",
       "1805589089 1805589089  1805589089  18.20386  -38.88\n",
       "1805589198 1805589089  1805589089  18.06294  262.81\n",
       "1805590461 1805589089  1805589089  17.87904 -382.43\n",
       "1805589089 1805589089  1805589089  18.35121   61.77\n",
       "1805589089 1805589089  1805589089   18.4579  -532.1\n",
       "        -1         -1  1805589460  17.52933   97.16\n",
       "1805589089 1805589089  1805589089  18.20446  -629.8\n",
       "1805589089 1805589089  1805589089  18.12643 -346.33\n",
       "1805589198 1805589089  1805589089  18.21831 -115.55\n",
       "       ...        ...         ...       ...     ...\n",
       "1818327532 1818327532  1818327532 224.98357 -365.07\n",
       "1818352402 1818352357  1818352357 245.43846 -135.57\n",
       "        -1         -1  1818314110 213.64597  212.42\n",
       "1818295246 1818295250  1818295250 207.61368   82.45\n",
       "1818353158 1818353158  1818353158 247.22607  122.24\n",
       "1818311770 1818311770  1818311770 218.91487 -482.39\n",
       "        -1         -1  1818312752 217.82092  -96.74\n",
       "1818327655 1818327655  1818327655 221.87311   -38.0\n",
       "        -1         -1  1818336293 229.55841 -282.02\n",
       "        -1         -1  1818314414 218.01546 -137.91"
      ]
     },
     "execution_count": 96,
     "metadata": {},
     "output_type": "execute_result"
    }
   ],
   "source": [
    "halos['halo_pid', 'halo_upid', 'halo_hostid', 'halo_z', 'halo_vz']"
   ]
  },
  {
   "cell_type": "code",
   "execution_count": 60,
   "id": "d6a0310e-9451-4681-87c1-5d380ccfc3a0",
   "metadata": {},
   "outputs": [
    {
     "data": {
      "text/html": [
       "&lt;Column name=&apos;halo_hostid&apos; dtype=&apos;int64&apos; length=2&gt;\n",
       "<table>\n",
       "<tr><td>1805589089</td></tr>\n",
       "<tr><td>1805589089</td></tr>\n",
       "</table>"
      ],
      "text/plain": [
       "<Column name='halo_hostid' dtype='int64' length=2>\n",
       "1805589089\n",
       "1805589089"
      ]
     },
     "execution_count": 60,
     "metadata": {},
     "output_type": "execute_result"
    }
   ],
   "source": [
    "halos['halo_hostid'][halos['halo_pid']==1805590461\t] # halo pid doesn't point to a specific upid or host id"
   ]
  },
  {
   "cell_type": "code",
   "execution_count": 19,
   "id": "b40bdc08-064f-4759-848a-1f7ce5b956ed",
   "metadata": {},
   "outputs": [
    {
     "name": "stderr",
     "output_type": "stream",
     "text": [
      "WARNING: AstropyDeprecationWarning: `astropy.cosmology.core.FLRW` has been moved (since v5.0) and should be imported as ``from astropy.cosmology import FLRW``. In future this will raise an exception. [astropy.cosmology.core]\n"
     ]
    }
   ],
   "source": [
    "zheng07_model.populate_mock(halocat)"
   ]
  },
  {
   "cell_type": "code",
   "execution_count": 31,
   "id": "609586b7-233b-4705-b475-b335eff26458",
   "metadata": {},
   "outputs": [],
   "source": [
    "galaxies = zheng07_model.mock.galaxy_table"
   ]
  },
  {
   "cell_type": "code",
   "execution_count": 34,
   "id": "b14f48ee-be7f-4256-ad79-ef04bb358667",
   "metadata": {},
   "outputs": [
    {
     "data": {
      "text/plain": [
       "(122874, 1420182)"
      ]
     },
     "execution_count": 34,
     "metadata": {},
     "output_type": "execute_result"
    }
   ],
   "source": [
    "len(galaxies), len(halos)"
   ]
  },
  {
   "cell_type": "code",
   "execution_count": 32,
   "id": "30438353-3a25-4c41-8dc8-3b9a2f683417",
   "metadata": {},
   "outputs": [
    {
     "name": "stdout",
     "output_type": "stream",
     "text": [
      " halo_id   halo_hostid halo_vz ...    x        vz   host_centric_distance\n",
      "---------- ----------- ------- ... -------- ------- ---------------------\n",
      "1805589089  1805589089 -119.05 ... 35.73223 -119.05                   0.0\n",
      "1805589864  1805589864   -14.4 ... 32.52357   -14.4                   0.0\n",
      "1805604915  1805604915 -152.86 ... 45.00907 -152.86                   0.0\n",
      "1803484120  1803484120  -69.74 ... 21.62638  -69.74                   0.0\n",
      "1803485520  1803485520 -124.57 ... 26.80523 -124.57                   0.0\n",
      "1803497704  1803497704   202.1 ...  0.71409   202.1                   0.0\n",
      "1803511225  1803511225 -216.25 ... 10.51264 -216.25                   0.0\n",
      "1803756359  1803756359 -435.21 ... 12.90159 -435.21                   0.0\n",
      "1805383224  1805383224  -94.42 ...  46.9032  -94.42                   0.0\n"
     ]
    }
   ],
   "source": [
    "print(galaxies[0:9])"
   ]
  },
  {
   "cell_type": "code",
   "execution_count": 36,
   "id": "fd7306c4-011e-482b-bf1d-0f990b83d8aa",
   "metadata": {},
   "outputs": [
    {
     "name": "stdout",
     "output_type": "stream",
     "text": [
      "['halo_id', 'halo_hostid', 'halo_vz', 'halo_mvir', 'halo_y', 'halo_upid', 'halo_x', 'halo_vx', 'halo_rvir', 'halo_z', 'conc_NFWmodel', 'halo_vy', 'halo_num_centrals', 'halo_num_satellites', 'gal_type', 'vy', 'y', 'vx', 'z', 'x', 'vz', 'host_centric_distance']\n"
     ]
    }
   ],
   "source": [
    "print(galaxies.keys())"
   ]
  },
  {
   "cell_type": "code",
   "execution_count": 167,
   "id": "63365121-d4f9-4ab3-9ad1-d794a77bc306",
   "metadata": {},
   "outputs": [
    {
     "data": {
      "text/html": [
       "<div><i>Table length=122874</i>\n",
       "<table id=\"table140173417115952\" class=\"table-striped table-bordered table-condensed\">\n",
       "<thead><tr><th>halo_id</th><th>halo_hostid</th><th>halo_mvir</th><th>halo_upid</th><th>halo_num_centrals</th><th>halo_num_satellites</th><th>halo_z</th><th>halo_vz</th><th>gal_type</th><th>z</th><th>vz</th></tr></thead>\n",
       "<thead><tr><th>int64</th><th>int64</th><th>float32</th><th>int64</th><th>int32</th><th>int32</th><th>float32</th><th>float32</th><th>object</th><th>float32</th><th>float32</th></tr></thead>\n",
       "<tr><td>1805589089</td><td>1805589089</td><td>117300000000000.0</td><td>-1</td><td>1</td><td>12</td><td>18.18657</td><td>-119.05</td><td>centrals</td><td>18.18657</td><td>-119.05</td></tr>\n",
       "<tr><td>1805589864</td><td>1805589864</td><td>626300000000.0</td><td>-1</td><td>1</td><td>0</td><td>17.39107</td><td>-14.4</td><td>centrals</td><td>17.39107</td><td>-14.4</td></tr>\n",
       "<tr><td>1805604915</td><td>1805604915</td><td>102300000000000.0</td><td>-1</td><td>1</td><td>17</td><td>40.30439</td><td>-152.86</td><td>centrals</td><td>40.30439</td><td>-152.86</td></tr>\n",
       "<tr><td>1803484120</td><td>1803484120</td><td>90970000000000.0</td><td>-1</td><td>1</td><td>9</td><td>9.67113</td><td>-69.74</td><td>centrals</td><td>9.67113</td><td>-69.74</td></tr>\n",
       "<tr><td>1803485520</td><td>1803485520</td><td>55590000000000.0</td><td>-1</td><td>1</td><td>7</td><td>5.36992</td><td>-124.57</td><td>centrals</td><td>5.36992</td><td>-124.57</td></tr>\n",
       "<tr><td>1803497704</td><td>1803497704</td><td>60820000000000.0</td><td>-1</td><td>1</td><td>10</td><td>16.9269</td><td>202.1</td><td>centrals</td><td>16.9269</td><td>202.1</td></tr>\n",
       "<tr><td>1803511225</td><td>1803511225</td><td>59740000000000.0</td><td>-1</td><td>1</td><td>8</td><td>23.38622</td><td>-216.25</td><td>centrals</td><td>23.38622</td><td>-216.25</td></tr>\n",
       "<tr><td>1803756359</td><td>1803756359</td><td>41870000000000.0</td><td>-1</td><td>1</td><td>0</td><td>35.39057</td><td>-435.21</td><td>centrals</td><td>35.39057</td><td>-435.21</td></tr>\n",
       "<tr><td>1805383224</td><td>1805383224</td><td>59940000000000.0</td><td>-1</td><td>1</td><td>7</td><td>41.96936</td><td>-94.42</td><td>centrals</td><td>41.96936</td><td>-94.42</td></tr>\n",
       "<tr><td>1803527194</td><td>1803527194</td><td>49310000000000.0</td><td>-1</td><td>1</td><td>4</td><td>40.50043</td><td>-539.47</td><td>centrals</td><td>40.50043</td><td>-539.47</td></tr>\n",
       "<tr><td>...</td><td>...</td><td>...</td><td>...</td><td>...</td><td>...</td><td>...</td><td>...</td><td>...</td><td>...</td><td>...</td></tr>\n",
       "<tr><td>1818105846</td><td>1818105846</td><td>982200000000.0</td><td>-1</td><td>1</td><td>1</td><td>223.7493</td><td>-8.06</td><td>satellites</td><td>223.73073</td><td>107.546555</td></tr>\n",
       "<tr><td>1818294159</td><td>1818294159</td><td>1735000000000.0</td><td>-1</td><td>1</td><td>1</td><td>204.22324</td><td>479.72</td><td>satellites</td><td>204.25113</td><td>450.08752</td></tr>\n",
       "<tr><td>1818340436</td><td>1818340436</td><td>852400000000.0</td><td>-1</td><td>0</td><td>1</td><td>224.60371</td><td>-46.72</td><td>satellites</td><td>224.5798</td><td>-128.69348</td></tr>\n",
       "<tr><td>1818324927</td><td>1818324927</td><td>9225000000000.0</td><td>-1</td><td>1</td><td>2</td><td>223.10173</td><td>-45.43</td><td>satellites</td><td>223.0738</td><td>-78.60415</td></tr>\n",
       "<tr><td>1818324927</td><td>1818324927</td><td>9225000000000.0</td><td>-1</td><td>1</td><td>2</td><td>223.10173</td><td>-45.43</td><td>satellites</td><td>223.17693</td><td>-283.9447</td></tr>\n",
       "<tr><td>1818077033</td><td>1818077033</td><td>1550000000000.0</td><td>-1</td><td>1</td><td>1</td><td>199.76875</td><td>119.01</td><td>satellites</td><td>199.65044</td><td>-236.66054</td></tr>\n",
       "<tr><td>1818355368</td><td>1818355368</td><td>589900000000.0</td><td>-1</td><td>1</td><td>1</td><td>245.45609</td><td>-102.3</td><td>satellites</td><td>245.38242</td><td>-79.84568</td></tr>\n",
       "<tr><td>1818312683</td><td>1818312683</td><td>675800000000.0</td><td>-1</td><td>0</td><td>1</td><td>217.32706</td><td>42.98</td><td>satellites</td><td>217.32884</td><td>15.498536</td></tr>\n",
       "<tr><td>1816482815</td><td>1816482815</td><td>1383000000000.0</td><td>-1</td><td>1</td><td>1</td><td>200.70383</td><td>212.26</td><td>satellites</td><td>200.75502</td><td>276.3499</td></tr>\n",
       "<tr><td>1816478123</td><td>1816478123</td><td>1281000000000.0</td><td>-1</td><td>1</td><td>1</td><td>203.40134</td><td>227.84</td><td>satellites</td><td>203.36629</td><td>330.9443</td></tr>\n",
       "</table></div>"
      ],
      "text/plain": [
       "<Table length=122874>\n",
       " halo_id   halo_hostid     halo_mvir     ...  gal_type      z         vz    \n",
       "  int64       int64         float32      ...   object    float32   float32  \n",
       "---------- ----------- ----------------- ... ---------- --------- ----------\n",
       "1805589089  1805589089 117300000000000.0 ...   centrals  18.18657    -119.05\n",
       "1805589864  1805589864    626300000000.0 ...   centrals  17.39107      -14.4\n",
       "1805604915  1805604915 102300000000000.0 ...   centrals  40.30439    -152.86\n",
       "1803484120  1803484120  90970000000000.0 ...   centrals   9.67113     -69.74\n",
       "1803485520  1803485520  55590000000000.0 ...   centrals   5.36992    -124.57\n",
       "1803497704  1803497704  60820000000000.0 ...   centrals   16.9269      202.1\n",
       "1803511225  1803511225  59740000000000.0 ...   centrals  23.38622    -216.25\n",
       "1803756359  1803756359  41870000000000.0 ...   centrals  35.39057    -435.21\n",
       "1805383224  1805383224  59940000000000.0 ...   centrals  41.96936     -94.42\n",
       "1803527194  1803527194  49310000000000.0 ...   centrals  40.50043    -539.47\n",
       "       ...         ...               ... ...        ...       ...        ...\n",
       "1818105846  1818105846    982200000000.0 ... satellites 223.73073 107.546555\n",
       "1818294159  1818294159   1735000000000.0 ... satellites 204.25113  450.08752\n",
       "1818340436  1818340436    852400000000.0 ... satellites  224.5798 -128.69348\n",
       "1818324927  1818324927   9225000000000.0 ... satellites  223.0738  -78.60415\n",
       "1818324927  1818324927   9225000000000.0 ... satellites 223.17693  -283.9447\n",
       "1818077033  1818077033   1550000000000.0 ... satellites 199.65044 -236.66054\n",
       "1818355368  1818355368    589900000000.0 ... satellites 245.38242  -79.84568\n",
       "1818312683  1818312683    675800000000.0 ... satellites 217.32884  15.498536\n",
       "1816482815  1816482815   1383000000000.0 ... satellites 200.75502   276.3499\n",
       "1816478123  1816478123   1281000000000.0 ... satellites 203.36629   330.9443"
      ]
     },
     "execution_count": 167,
     "metadata": {},
     "output_type": "execute_result"
    }
   ],
   "source": [
    "galaxies['halo_id', 'halo_hostid', 'halo_mvir', 'halo_upid', 'halo_num_centrals', 'halo_num_satellites', 'halo_z', 'halo_vz', 'gal_type', 'z', 'vz']"
   ]
  },
  {
   "cell_type": "code",
   "execution_count": 84,
   "id": "e968c2b8-3a31-4d1e-b05e-d778c26930f6",
   "metadata": {},
   "outputs": [
    {
     "data": {
      "text/plain": [
       "(122874, 1064633)"
      ]
     },
     "execution_count": 84,
     "metadata": {},
     "output_type": "execute_result"
    }
   ],
   "source": [
    "len(galaxies), len(halos[halos['halo_upid']==-1]) # so not every central halo gets a galaxy"
   ]
  },
  {
   "cell_type": "code",
   "execution_count": 104,
   "id": "cf6cde5a-dca1-4f66-9209-7964cf50f72b",
   "metadata": {},
   "outputs": [
    {
     "data": {
      "text/plain": [
       "False"
      ]
     },
     "execution_count": 104,
     "metadata": {},
     "output_type": "execute_result"
    }
   ],
   "source": [
    "np.max(galaxies['gal_type'][galaxies['x']!=galaxies['halo_x']]=='centrals') # only centrals have matching halo and galaxy positions and velocities"
   ]
  },
  {
   "cell_type": "code",
   "execution_count": 108,
   "id": "c0cee265-2006-4ff3-9ea5-5560874694d2",
   "metadata": {},
   "outputs": [
    {
     "data": {
      "text/html": [
       "<div><i>Table length=2</i>\n",
       "<table id=\"table140173685286272\" class=\"table-striped table-bordered table-condensed\">\n",
       "<thead><tr><th>halo_id</th><th>halo_hostid</th><th>halo_vz</th><th>halo_mvir</th><th>halo_y</th><th>halo_upid</th><th>halo_x</th><th>halo_vx</th><th>halo_rvir</th><th>halo_z</th><th>conc_NFWmodel</th><th>halo_vy</th><th>halo_num_centrals</th><th>halo_num_satellites</th><th>gal_type</th><th>vy</th><th>y</th><th>vx</th><th>z</th><th>x</th><th>vz</th><th>host_centric_distance</th></tr></thead>\n",
       "<thead><tr><th>int64</th><th>int64</th><th>float32</th><th>float32</th><th>float32</th><th>int64</th><th>float32</th><th>float32</th><th>float32</th><th>float32</th><th>float32</th><th>float32</th><th>int32</th><th>int32</th><th>object</th><th>float32</th><th>float32</th><th>float32</th><th>float32</th><th>float32</th><th>float32</th><th>float64</th></tr></thead>\n",
       "<tr><td>1818294159</td><td>1818294159</td><td>479.72</td><td>1735000000000.0</td><td>225.77318</td><td>-1</td><td>245.46457</td><td>666.93</td><td>0.284013</td><td>204.22324</td><td>6.3640094</td><td>56.7</td><td>1</td><td>1</td><td>centrals</td><td>56.7</td><td>225.77318</td><td>666.93</td><td>204.22324</td><td>245.46457</td><td>479.72</td><td>0.0</td></tr>\n",
       "<tr><td>1818294159</td><td>1818294159</td><td>479.72</td><td>1735000000000.0</td><td>225.77318</td><td>-1</td><td>245.46457</td><td>666.93</td><td>0.284013</td><td>204.22324</td><td>6.3640094</td><td>56.7</td><td>1</td><td>1</td><td>satellites</td><td>-7.1915655</td><td>225.8259</td><td>584.96783</td><td>204.25113</td><td>245.37538</td><td>450.08752</td><td>0.10729235059690945</td></tr>\n",
       "</table></div>"
      ],
      "text/plain": [
       "<Table length=2>\n",
       " halo_id   halo_hostid halo_vz ...     x         vz    host_centric_distance\n",
       "  int64       int64    float32 ...  float32   float32         float64       \n",
       "---------- ----------- ------- ... --------- --------- ---------------------\n",
       "1818294159  1818294159  479.72 ... 245.46457    479.72                   0.0\n",
       "1818294159  1818294159  479.72 ... 245.37538 450.08752   0.10729235059690945"
      ]
     },
     "execution_count": 108,
     "metadata": {},
     "output_type": "execute_result"
    }
   ],
   "source": [
    "galaxies[galaxies['halo_hostid']==1818294159] # halo_num_centrals and halo_num_satellites tells you number of centrals and halos in the host"
   ]
  },
  {
   "cell_type": "markdown",
   "id": "288caaa6-f0fb-410a-83ac-6de6757b1069",
   "metadata": {},
   "source": [
    "### Sanity check by plotting HOD"
   ]
  },
  {
   "cell_type": "code",
   "execution_count": 152,
   "id": "fd6a0fbd-c4f8-4cfc-a12b-7d5adc8212b5",
   "metadata": {},
   "outputs": [],
   "source": [
    "mean_ncen = zheng07_model.mean_occupation_centrals(prim_haloprop = halo_mass)\n",
    "mean_nsat = zheng07_model.mean_occupation_satellites(prim_haloprop = halo_mass)"
   ]
  },
  {
   "cell_type": "code",
   "execution_count": 172,
   "id": "6b7dca99-2a2b-459e-8f3d-0167f10a90f8",
   "metadata": {},
   "outputs": [
    {
     "data": {
      "text/html": [
       "<div><i>Table length=13</i>\n",
       "<table id=\"table140173417116672\" class=\"table-striped table-bordered table-condensed\">\n",
       "<thead><tr><th>halo_id</th><th>halo_hostid</th><th>halo_vz</th><th>halo_mvir</th><th>halo_y</th><th>halo_upid</th><th>halo_x</th><th>halo_vx</th><th>halo_rvir</th><th>halo_z</th><th>conc_NFWmodel</th><th>halo_vy</th><th>halo_num_centrals</th><th>halo_num_satellites</th><th>gal_type</th><th>vy</th><th>y</th><th>vx</th><th>z</th><th>x</th><th>vz</th><th>host_centric_distance</th></tr></thead>\n",
       "<thead><tr><th>int64</th><th>int64</th><th>float32</th><th>float32</th><th>float32</th><th>int64</th><th>float32</th><th>float32</th><th>float32</th><th>float32</th><th>float32</th><th>float32</th><th>int32</th><th>int32</th><th>object</th><th>float32</th><th>float32</th><th>float32</th><th>float32</th><th>float32</th><th>float32</th><th>float64</th></tr></thead>\n",
       "<tr><td>1805589089</td><td>1805589089</td><td>-119.05</td><td>117300000000000.0</td><td>43.13491</td><td>-1</td><td>35.73223</td><td>1.78</td><td>1.1571131</td><td>18.18657</td><td>7.580469</td><td>-11.95</td><td>1</td><td>12</td><td>centrals</td><td>-11.95</td><td>43.13491</td><td>1.78</td><td>18.18657</td><td>35.73223</td><td>-119.05</td><td>0.0</td></tr>\n",
       "<tr><td>1805589089</td><td>1805589089</td><td>-119.05</td><td>117300000000000.0</td><td>43.13491</td><td>-1</td><td>35.73223</td><td>1.78</td><td>1.1571131</td><td>18.18657</td><td>7.580469</td><td>-11.95</td><td>1</td><td>12</td><td>satellites</td><td>-322.6859</td><td>43.157257</td><td>152.04921</td><td>18.24288</td><td>35.769547</td><td>-9.450659</td><td>0.07115378821763771</td></tr>\n",
       "<tr><td>1805589089</td><td>1805589089</td><td>-119.05</td><td>117300000000000.0</td><td>43.13491</td><td>-1</td><td>35.73223</td><td>1.78</td><td>1.1571131</td><td>18.18657</td><td>7.580469</td><td>-11.95</td><td>1</td><td>12</td><td>satellites</td><td>-885.13574</td><td>43.1422</td><td>-393.82712</td><td>18.43543</td><td>36.396236</td><td>-44.659206</td><td>0.7091472979159923</td></tr>\n",
       "<tr><td>1805589089</td><td>1805589089</td><td>-119.05</td><td>117300000000000.0</td><td>43.13491</td><td>-1</td><td>35.73223</td><td>1.78</td><td>1.1571131</td><td>18.18657</td><td>7.580469</td><td>-11.95</td><td>1</td><td>12</td><td>satellites</td><td>636.7791</td><td>43.21012</td><td>404.23666</td><td>18.69974</td><td>35.032352</td><td>-184.75899</td><td>0.8711081519192051</td></tr>\n",
       "<tr><td>1805589089</td><td>1805589089</td><td>-119.05</td><td>117300000000000.0</td><td>43.13491</td><td>-1</td><td>35.73223</td><td>1.78</td><td>1.1571131</td><td>18.18657</td><td>7.580469</td><td>-11.95</td><td>1</td><td>12</td><td>satellites</td><td>-1198.8069</td><td>43.092968</td><td>-79.76896</td><td>18.154652</td><td>35.759735</td><td>179.68414</td><td>0.05945208464204255</td></tr>\n",
       "<tr><td>1805589089</td><td>1805589089</td><td>-119.05</td><td>117300000000000.0</td><td>43.13491</td><td>-1</td><td>35.73223</td><td>1.78</td><td>1.1571131</td><td>18.18657</td><td>7.580469</td><td>-11.95</td><td>1</td><td>12</td><td>satellites</td><td>-150.45374</td><td>43.11906</td><td>695.54584</td><td>17.866096</td><td>35.954796</td><td>-263.61624</td><td>0.3904995936210701</td></tr>\n",
       "<tr><td>1805589089</td><td>1805589089</td><td>-119.05</td><td>117300000000000.0</td><td>43.13491</td><td>-1</td><td>35.73223</td><td>1.78</td><td>1.1571131</td><td>18.18657</td><td>7.580469</td><td>-11.95</td><td>1</td><td>12</td><td>satellites</td><td>-386.49048</td><td>43.33688</td><td>-716.42834</td><td>18.213501</td><td>35.452377</td><td>414.4215</td><td>0.34617278810682106</td></tr>\n",
       "<tr><td>1805589089</td><td>1805589089</td><td>-119.05</td><td>117300000000000.0</td><td>43.13491</td><td>-1</td><td>35.73223</td><td>1.78</td><td>1.1571131</td><td>18.18657</td><td>7.580469</td><td>-11.95</td><td>1</td><td>12</td><td>satellites</td><td>626.5656</td><td>43.14983</td><td>-312.10977</td><td>18.021376</td><td>35.709156</td><td>-548.5738</td><td>0.16746373393347683</td></tr>\n",
       "<tr><td>1805589089</td><td>1805589089</td><td>-119.05</td><td>117300000000000.0</td><td>43.13491</td><td>-1</td><td>35.73223</td><td>1.78</td><td>1.1571131</td><td>18.18657</td><td>7.580469</td><td>-11.95</td><td>1</td><td>12</td><td>satellites</td><td>239.85387</td><td>43.03605</td><td>596.1104</td><td>18.341043</td><td>35.853912</td><td>637.1352</td><td>0.2200957462868534</td></tr>\n",
       "<tr><td>1805589089</td><td>1805589089</td><td>-119.05</td><td>117300000000000.0</td><td>43.13491</td><td>-1</td><td>35.73223</td><td>1.78</td><td>1.1571131</td><td>18.18657</td><td>7.580469</td><td>-11.95</td><td>1</td><td>12</td><td>satellites</td><td>-186.66435</td><td>43.244617</td><td>-713.5881</td><td>18.187021</td><td>35.693005</td><td>-837.29315</td><td>0.11650954609115793</td></tr>\n",
       "<tr><td>1805589089</td><td>1805589089</td><td>-119.05</td><td>117300000000000.0</td><td>43.13491</td><td>-1</td><td>35.73223</td><td>1.78</td><td>1.1571131</td><td>18.18657</td><td>7.580469</td><td>-11.95</td><td>1</td><td>12</td><td>satellites</td><td>1079.6644</td><td>43.345448</td><td>-421.37305</td><td>18.417377</td><td>35.70744</td><td>-303.32462</td><td>0.31338916942402956</td></tr>\n",
       "<tr><td>1805589089</td><td>1805589089</td><td>-119.05</td><td>117300000000000.0</td><td>43.13491</td><td>-1</td><td>35.73223</td><td>1.78</td><td>1.1571131</td><td>18.18657</td><td>7.580469</td><td>-11.95</td><td>1</td><td>12</td><td>satellites</td><td>-368.8082</td><td>42.85244</td><td>592.762</td><td>18.036287</td><td>35.005108</td><td>360.16</td><td>0.7944066130899721</td></tr>\n",
       "<tr><td>1805589089</td><td>1805589089</td><td>-119.05</td><td>117300000000000.0</td><td>43.13491</td><td>-1</td><td>35.73223</td><td>1.78</td><td>1.1571131</td><td>18.18657</td><td>7.580469</td><td>-11.95</td><td>1</td><td>12</td><td>satellites</td><td>204.19943</td><td>44.188305</td><td>116.89975</td><td>18.060688</td><td>35.51495</td><td>-569.8952</td><td>1.08291072485933</td></tr>\n",
       "</table></div>"
      ],
      "text/plain": [
       "<Table length=13>\n",
       " halo_id   halo_hostid halo_vz ...     x         vz     host_centric_distance\n",
       "  int64       int64    float32 ...  float32   float32          float64       \n",
       "---------- ----------- ------- ... --------- ---------- ---------------------\n",
       "1805589089  1805589089 -119.05 ...  35.73223    -119.05                   0.0\n",
       "1805589089  1805589089 -119.05 ... 35.769547  -9.450659   0.07115378821763771\n",
       "1805589089  1805589089 -119.05 ... 36.396236 -44.659206    0.7091472979159923\n",
       "1805589089  1805589089 -119.05 ... 35.032352 -184.75899    0.8711081519192051\n",
       "1805589089  1805589089 -119.05 ... 35.759735  179.68414   0.05945208464204255\n",
       "1805589089  1805589089 -119.05 ... 35.954796 -263.61624    0.3904995936210701\n",
       "1805589089  1805589089 -119.05 ... 35.452377   414.4215   0.34617278810682106\n",
       "1805589089  1805589089 -119.05 ... 35.709156  -548.5738   0.16746373393347683\n",
       "1805589089  1805589089 -119.05 ... 35.853912   637.1352    0.2200957462868534\n",
       "1805589089  1805589089 -119.05 ... 35.693005 -837.29315   0.11650954609115793\n",
       "1805589089  1805589089 -119.05 ...  35.70744 -303.32462   0.31338916942402956\n",
       "1805589089  1805589089 -119.05 ... 35.005108     360.16    0.7944066130899721\n",
       "1805589089  1805589089 -119.05 ...  35.51495  -569.8952      1.08291072485933"
      ]
     },
     "execution_count": 172,
     "metadata": {},
     "output_type": "execute_result"
    }
   ],
   "source": [
    "galaxies[galaxies['halo_hostid']==1805589089]"
   ]
  },
  {
   "cell_type": "code",
   "execution_count": 178,
   "id": "56e796f0-9753-45ca-a28f-c4fb9b1ae70e",
   "metadata": {},
   "outputs": [],
   "source": [
    "unique_hostid, hostid_ind = np.unique(galaxies['halo_hostid'], return_index = True)"
   ]
  },
  {
   "cell_type": "code",
   "execution_count": 181,
   "id": "a9787ec1-824d-4d59-99ff-b8d4a2458f22",
   "metadata": {},
   "outputs": [],
   "source": [
    "ind = np.digitize(galaxies[hostid_ind]['halo_mvir'], halo_mass) # bin the halo masses"
   ]
  },
  {
   "cell_type": "code",
   "execution_count": 190,
   "id": "210c244a-a194-4bce-99f6-3a824e47e08f",
   "metadata": {},
   "outputs": [],
   "source": [
    "mean_ncen_mock = [np.sum(galaxies[hostid_ind]['halo_num_centrals'][ind == i])/len(galaxies[hostid_ind]['halo_num_centrals'][ind == i]) for i in range(len(halo_mass))]"
   ]
  },
  {
   "cell_type": "code",
   "execution_count": 192,
   "id": "7d130089-0315-4f3d-80f9-1fa7b779ed78",
   "metadata": {},
   "outputs": [],
   "source": [
    "mean_nsat_mock = [np.sum(galaxies[hostid_ind]['halo_num_satellites'][ind == i])/len(galaxies[hostid_ind]['halo_num_satellites'][ind == i]) for i in range(len(halo_mass))]"
   ]
  },
  {
   "cell_type": "code",
   "execution_count": 204,
   "id": "2199274f-c2ed-475e-b19e-f92a8bce6aa6",
   "metadata": {},
   "outputs": [
    {
     "data": {
      "image/png": "[encoded data removed]",
      "text/plain": [
       "<Figure size 432x288 with 1 Axes>"
      ]
     },
     "metadata": {
      "needs_background": "light"
     },
     "output_type": "display_data"
    }
   ],
   "source": [
    "plt.plot(halo_mass, mean_ncen, label = 'centrals')\n",
    "plt.plot(halo_mass, mean_nsat, label = 'satellites')\n",
    "plt.plot(halo_mass, mean_ncen+mean_nsat, label = 'total')\n",
    "plt.plot(halo_mass, mean_ncen_mock, label = 'centrals, mock', linestyle = '--')\n",
    "plt.plot(halo_mass, mean_nsat_mock, label = 'satellites, mock', linestyle = '--')\n",
    "plt.plot(halo_mass, np.add(mean_ncen_mock,mean_nsat_mock), label = 'total, mock', linestyle = '--')\n",
    "plt.xlabel('$M_\\mathrm{vir}$')\n",
    "plt.ylabel(r'$\\langle N \\rangle$')\n",
    "plt.xscale('log')\n",
    "plt.yscale('log')\n",
    "plt.legend()\n",
    "plt.show()"
   ]
  },
  {
   "cell_type": "markdown",
   "id": "441da4c9-1923-4cbf-8372-57802008a732",
   "metadata": {},
   "source": [
    "## Measure the median clustering signal from a prebuilt mock"
   ]
  },
  {
   "cell_type": "code",
   "execution_count": 120,
   "id": "2b83334b-69d1-4ae1-a5b3-190d18b876ad",
   "metadata": {},
   "outputs": [
    {
     "name": "stderr",
     "output_type": "stream",
     "text": [
      "WARNING: AstropyDeprecationWarning: `astropy.cosmology.core.FLRW` has been moved (since v5.0) and should be imported as ``from astropy.cosmology import FLRW``. In future this will raise an exception. [astropy.cosmology.core]\n",
      "WARNING: AstropyDeprecationWarning: `astropy.cosmology.core.FLRW` has been moved (since v5.0) and should be imported as ``from astropy.cosmology import FLRW``. In future this will raise an exception. [astropy.cosmology.core]\n",
      "WARNING: AstropyDeprecationWarning: `astropy.cosmology.core.FLRW` has been moved (since v5.0) and should be imported as ``from astropy.cosmology import FLRW``. In future this will raise an exception. [astropy.cosmology.core]\n"
     ]
    }
   ],
   "source": [
    "r, xi_cc, xi_cs, xi_ss = zheng07_model.compute_average_galaxy_clustering(gal_type = 'centrals', include_crosscorr = True, num_iterations = 3, num_threads = 'max')"
   ]
  },
  {
   "cell_type": "code",
   "execution_count": 121,
   "id": "301c4531-505c-446e-b37d-5271da21780a",
   "metadata": {},
   "outputs": [
    {
     "name": "stderr",
     "output_type": "stream",
     "text": [
      "WARNING: AstropyDeprecationWarning: `astropy.cosmology.core.FLRW` has been moved (since v5.0) and should be imported as ``from astropy.cosmology import FLRW``. In future this will raise an exception. [astropy.cosmology.core]\n",
      "WARNING: AstropyDeprecationWarning: `astropy.cosmology.core.FLRW` has been moved (since v5.0) and should be imported as ``from astropy.cosmology import FLRW``. In future this will raise an exception. [astropy.cosmology.core]\n",
      "WARNING: AstropyDeprecationWarning: `astropy.cosmology.core.FLRW` has been moved (since v5.0) and should be imported as ``from astropy.cosmology import FLRW``. In future this will raise an exception. [astropy.cosmology.core]\n"
     ]
    }
   ],
   "source": [
    "r, xi_cc_auto = zheng07_model.compute_average_galaxy_clustering(gal_type = 'centrals', include_crosscorr = False, num_iterations = 3, num_threads = 'max')"
   ]
  },
  {
   "cell_type": "code",
   "execution_count": 136,
   "id": "c381db87-e3a0-4b10-b0e6-c4f73412ce6c",
   "metadata": {},
   "outputs": [
    {
     "name": "stderr",
     "output_type": "stream",
     "text": [
      "WARNING: AstropyDeprecationWarning: `astropy.cosmology.core.FLRW` has been moved (since v5.0) and should be imported as ``from astropy.cosmology import FLRW``. In future this will raise an exception. [astropy.cosmology.core]\n",
      "WARNING: AstropyDeprecationWarning: `astropy.cosmology.core.FLRW` has been moved (since v5.0) and should be imported as ``from astropy.cosmology import FLRW``. In future this will raise an exception. [astropy.cosmology.core]\n",
      "WARNING: AstropyDeprecationWarning: `astropy.cosmology.core.FLRW` has been moved (since v5.0) and should be imported as ``from astropy.cosmology import FLRW``. In future this will raise an exception. [astropy.cosmology.core]\n"
     ]
    }
   ],
   "source": [
    "r, xi_ss_auto = zheng07_model.compute_average_galaxy_clustering(gal_type = 'satellites', include_crosscorr = False, num_iterations = 3, num_threads = 'max')"
   ]
  },
  {
   "cell_type": "code",
   "execution_count": 134,
   "id": "8c37022d-a6e3-4945-a67a-2475af21bf02",
   "metadata": {},
   "outputs": [
    {
     "name": "stderr",
     "output_type": "stream",
     "text": [
      "WARNING: AstropyDeprecationWarning: `astropy.cosmology.core.FLRW` has been moved (since v5.0) and should be imported as ``from astropy.cosmology import FLRW``. In future this will raise an exception. [astropy.cosmology.core]\n",
      "WARNING: AstropyDeprecationWarning: `astropy.cosmology.core.FLRW` has been moved (since v5.0) and should be imported as ``from astropy.cosmology import FLRW``. In future this will raise an exception. [astropy.cosmology.core]\n",
      "WARNING: AstropyDeprecationWarning: `astropy.cosmology.core.FLRW` has been moved (since v5.0) and should be imported as ``from astropy.cosmology import FLRW``. In future this will raise an exception. [astropy.cosmology.core]\n"
     ]
    }
   ],
   "source": [
    "r, xi = zheng07_model.compute_average_galaxy_clustering(include_crosscorr = False, num_iterations = 3, num_threads = 'max')"
   ]
  },
  {
   "cell_type": "code",
   "execution_count": 149,
   "id": "e26ca06a-6e0f-4e5e-a462-3ffd814d9acb",
   "metadata": {},
   "outputs": [
    {
     "data": {
      "image/png": "[encoded data removed]",
      "text/plain": [
       "<Figure size 432x288 with 1 Axes>"
      ]
     },
     "metadata": {
      "needs_background": "light"
     },
     "output_type": "display_data"
    },
    {
     "data": {
      "image/png": "[encoded data removed]",
      "text/plain": [
       "<Figure size 432x288 with 1 Axes>"
      ]
     },
     "metadata": {
      "needs_background": "light"
     },
     "output_type": "display_data"
    },
    {
     "data": {
      "image/png": "[encoded data removed]",
      "text/plain": [
       "<Figure size 432x288 with 1 Axes>"
      ]
     },
     "metadata": {
      "needs_background": "light"
     },
     "output_type": "display_data"
    },
    {
     "data": {
      "image/png": "[encoded data removed]",
      "text/plain": [
       "<Figure size 432x288 with 1 Axes>"
      ]
     },
     "metadata": {
      "needs_background": "light"
     },
     "output_type": "display_data"
    }
   ],
   "source": [
    "plt.plot(r, xi, label = 'all galaxies')\n",
    "plt.plot(r, xi_cc_auto, label = 'CC, cross correlation')\n",
    "plt.plot(r, xi_cc, label = 'CC, no cross correlation', linestyle = '--')\n",
    "plt.xlabel('r')\n",
    "plt.ylabel(r'$\\xi(r)$')\n",
    "plt.xscale('log')\n",
    "plt.yscale('log')\n",
    "plt.legend()\n",
    "plt.show()\n",
    "\n",
    "plt.plot(r, xi, label = 'all galaxies')\n",
    "plt.plot(r, xi_cs, label = 'CS, cross correlation')\n",
    "plt.legend()\n",
    "plt.xlabel('r')\n",
    "plt.ylabel(r'$\\xi(r)$')\n",
    "plt.xscale('log')\n",
    "plt.yscale('log')\n",
    "plt.show()\n",
    "\n",
    "plt.plot(r, xi, label = 'all galaxies')\n",
    "plt.plot(r, xi_ss_auto, label = 'SS, cross correlation')\n",
    "plt.plot(r, xi_ss, label = 'SS, no cross correlation', linestyle = '--')\n",
    "plt.xlabel('r')\n",
    "plt.ylabel(r'$\\xi(r)$')\n",
    "plt.xscale('log')\n",
    "plt.yscale('log')\n",
    "plt.legend()\n",
    "plt.show()\n",
    "\n",
    "plt.plot(r, xi)\n",
    "plt.title('all galaxies')\n",
    "plt.xlabel('r')\n",
    "plt.ylabel(r'$\\xi(r)$')\n",
    "plt.xscale('log')\n",
    "plt.yscale('log')\n",
    "plt.show()"
   ]
  },
  {
   "cell_type": "markdown",
   "id": "820cc294-2d27-4083-a1d0-bbae88b1d408",
   "metadata": {},
   "source": [
    "## Make mock observations"
   ]
  },
  {
   "cell_type": "code",
   "execution_count": null,
   "id": "a90cd300-6c9c-4804-b759-6956ad0e9201",
   "metadata": {},
   "outputs": [],
   "source": [
    "mock_observables.wp()"
   ]
  },
  {
   "cell_type": "code",
   "execution_count": null,
   "id": "bdd24fda-dc63-4775-86ab-0bd419ae56ca",
   "metadata": {},
   "outputs": [],
   "source": [
    "dman = DownloadManager()"
   ]
  },
  {
   "cell_type": "code",
   "execution_count": null,
   "id": "7f9aa813-dc03-4282-9224-bcb677b324b7",
   "metadata": {},
   "outputs": [
    {
     "name": "stderr",
     "output_type": "stream",
     "text": [
      "/home/mshiferaw/anaconda3/envs/jupyter-env/lib/python3.8/site-packages/halotools/sim_manager/download_manager.py:933: GuessedAtParserWarning: No parser was explicitly specified, so I'm using the best available HTML parser for this system (\"html.parser\"). This usually isn't a problem, but if you run this code on another system, or in a different virtual environment, it may use a different parser and behave differently.\n",
      "\n",
      "The code that caused this warning is on line 933 of the file /home/mshiferaw/anaconda3/envs/jupyter-env/lib/python3.8/site-packages/halotools/sim_manager/download_manager.py. To get rid of this warning, pass the additional argument 'features=\"html.parser\"' to the BeautifulSoup constructor.\n",
      "\n",
      "  soup = BeautifulSoup(requests.get(baseurl).text)\n",
      "/home/mshiferaw/anaconda3/envs/jupyter-env/lib/python3.8/site-packages/halotools/sim_manager/download_manager.py:942: GuessedAtParserWarning: No parser was explicitly specified, so I'm using the best available HTML parser for this system (\"html.parser\"). This usually isn't a problem, but if you run this code on another system, or in a different virtual environment, it may use a different parser and behave differently.\n",
      "\n",
      "The code that caused this warning is on line 942 of the file /home/mshiferaw/anaconda3/envs/jupyter-env/lib/python3.8/site-packages/halotools/sim_manager/download_manager.py. To get rid of this warning, pass the additional argument 'features=\"html.parser\"' to the BeautifulSoup constructor.\n",
      "\n",
      "  soup = BeautifulSoup(requests.get(simloc).text)\n",
      "/home/mshiferaw/anaconda3/envs/jupyter-env/lib/python3.8/site-packages/halotools/sim_manager/download_manager.py:950: GuessedAtParserWarning: No parser was explicitly specified, so I'm using the best available HTML parser for this system (\"html.parser\"). This usually isn't a problem, but if you run this code on another system, or in a different virtual environment, it may use a different parser and behave differently.\n",
      "\n",
      "The code that caused this warning is on line 950 of the file /home/mshiferaw/anaconda3/envs/jupyter-env/lib/python3.8/site-packages/halotools/sim_manager/download_manager.py. To get rid of this warning, pass the additional argument 'features=\"html.parser\"' to the BeautifulSoup constructor.\n",
      "\n",
      "  soup = BeautifulSoup(requests.get(halocatdir).text)\n"
     ]
    },
    {
     "name": "stdout",
     "output_type": "stream",
     "text": [
      "\n",
      "... Downloading data from the following location: \n",
      "http://www.astro.yale.edu/aphearin/Data_files/halo_catalogs/bolplanck/rockstar/hlist_0.66818.list.halotools_v0p4.hdf5\n",
      "\n",
      " ... Saving the data with the following filename: \n",
      "/home/mshiferaw/.astropy/cache/halotools/halo_catalogs/bolplanck/rockstar/hlist_0.66818.list.halotools_v0p4.hdf5\n",
      "\n",
      "5% complete, elapsed time = 2 seconds\n",
      "10% complete, elapsed time = 3 seconds\n",
      "15% complete, elapsed time = 4 seconds\n",
      "20% complete, elapsed time = 5 seconds\n",
      "25% complete, elapsed time = 6 seconds\n",
      "30% complete, elapsed time = 7 seconds\n",
      "35% complete, elapsed time = 8 seconds\n",
      "40% complete, elapsed time = 10 seconds\n",
      "45% complete, elapsed time = 11 seconds\n",
      "50% complete, elapsed time = 12 seconds\n",
      "55% complete, elapsed time = 14 seconds\n",
      "60% complete, elapsed time = 15 seconds\n",
      "65% complete, elapsed time = 16 seconds\n",
      "70% complete, elapsed time = 17 seconds\n",
      "75% complete, elapsed time = 19 seconds\n",
      "80% complete, elapsed time = 21 seconds\n",
      "85% complete, elapsed time = 23 seconds\n",
      "90% complete, elapsed time = 25 seconds\n",
      "95% complete, elapsed time = 27 seconds\n",
      "100% complete, elapsed time = 29 seconds\n",
      "\n",
      "Total runtime to download pre-processed halo catalog = 29.0 seconds\n",
      "\n",
      "\n",
      "The halo catalog has been successfully downloaded to the following location:\n",
      "/home/mshiferaw/.astropy/cache/halotools/halo_catalogs/bolplanck/rockstar/hlist_0.66818.list.halotools_v0p4.hdf5\n",
      "\n",
      "This filename and its associated metadata have also been added to the Halotools cache log, \n",
      "as reflected by a newly added line to the following ASCII file:\n",
      "\n",
      "/home/mshiferaw/.astropy/cache/halotools/halo_table_cache_log.txt\n",
      "\n",
      "Since the catalog will now be recognized in cache, \n",
      "you can load it into memory using the following syntax:\n",
      "\n",
      ">>> from halotools.sim_manager import CachedHaloCatalog \n",
      ">>> halocat = CachedHaloCatalog(simname = 'bolplanck', halo_finder = 'rockstar', version_name = 'halotools_v0p4', redshift = 0.4966) \n",
      "\n",
      "For convenience, you can set this catalog to be your default catalog \n",
      "and omit the CachedHaloCatalog constructor arguments.\n",
      "To do that, change the following variables in the \n",
      "halotools.sim_manager.sim_defaults module:\n",
      "``default_simname``, ``default_halo_finder``, ``default_version_name`` and ``default_redshift``.\n",
      "\n",
      "Tabular data storing the actual halos is bound to the ``halo_table`` \n",
      "attribute of ``halocat`` in the form of an Astropy Table:\n",
      "\n",
      ">>> halos = halocat.halo_table \n",
      "\n",
      "Halo properties are accessed in the same manner as a python dictionary or Numpy structured array:\n",
      "\n",
      ">>> mass_array = halos['halo_mvir'] \n",
      "\n",
      "The ``halocat`` object also contains additional metadata \n",
      "such as ``halocat.simname``, ``halocat.redshift`` and ``halocat.fname`` \n",
      "that you can use for sanity checks on your bookkeeping.\n",
      "\n",
      "Note that if you move this halo catalog into a new location on disk, \n",
      "you must update both the ``fname`` metadata of the hdf5 file \n",
      "as well as the``fname`` column of the corresponding entry in the log. \n",
      "You can accomplish this with the ``update_cached_file_location``method \n",
      "of the HaloTableCache class.\n",
      "\n",
      "\n"
     ]
    }
   ],
   "source": [
    "dman.download_processed_halo_table('bolplanck', 'rockstar', 0.5)"
   ]
  },
  {
   "cell_type": "code",
   "execution_count": null,
   "id": "71906843-a21b-495a-90a6-d944d69d30b8",
   "metadata": {},
   "outputs": [],
   "source": [
    "halocat = CachedHaloCatalog(simname = 'bolplanck', halo_finder = 'rockstar', redshift = 0.5)\n",
    "halos = halocat.halo_table"
   ]
  },
  {
   "cell_type": "code",
   "execution_count": null,
   "id": "f0e821b6-47d7-4549-9050-c39666c853de",
   "metadata": {},
   "outputs": [
    {
     "name": "stdout",
     "output_type": "stream",
     "text": [
      "halo_vmax_firstacc halo_dmvir_dt_tdyn ... halo_hostid halo_mvir_host_halo\n",
      "------------------ ------------------ ... ----------- -------------------\n",
      "            978.45             9427.0 ...  2153866040   136300000000000.0\n",
      "            121.26             -2.787 ...  2153866040   136300000000000.0\n",
      "             97.81             -3.242 ...  2153866040   136300000000000.0\n",
      "            132.37              -9.91 ...  2153866040   136300000000000.0\n",
      "             79.43             -3.536 ...  2153866040   136300000000000.0\n",
      "            222.48             -7.292 ...  2153866040   136300000000000.0\n",
      "            109.82             -3.522 ...  2153866040   136300000000000.0\n",
      "             95.99             -5.198 ...  2153866040   136300000000000.0\n",
      "            291.28             -221.0 ...  2153866040   136300000000000.0\n"
     ]
    }
   ],
   "source": [
    "print(halos[0:9])"
   ]
  },
  {
   "cell_type": "code",
   "execution_count": null,
   "id": "4766814b-9a49-42d2-b3ac-df6c68b0dd04",
   "metadata": {},
   "outputs": [
    {
     "name": "stdout",
     "output_type": "stream",
     "text": [
      "\n",
      "... Downloading data from the following location: \n",
      "http://www.astro.yale.edu/aphearin/Data_files/halo_catalogs/multidark/rockstar/hlist_0.31765.list.halotools_v0p4.hdf5\n",
      "\n",
      " ... Saving the data with the following filename: \n",
      "/home/mshiferaw/.astropy/cache/halotools/halo_catalogs/multidark/rockstar/hlist_0.31765.list.halotools_v0p4.hdf5\n",
      "\n",
      "5% complete, elapsed time = 1 seconds\n",
      "10% complete, elapsed time = 2 seconds\n",
      "15% complete, elapsed time = 2 seconds\n",
      "20% complete, elapsed time = 2 seconds\n",
      "25% complete, elapsed time = 3 seconds\n",
      "30% complete, elapsed time = 3 seconds\n",
      "35% complete, elapsed time = 4 seconds\n",
      "40% complete, elapsed time = 4 seconds\n",
      "45% complete, elapsed time = 4 seconds\n",
      "50% complete, elapsed time = 4 seconds\n",
      "55% complete, elapsed time = 5 seconds\n",
      "60% complete, elapsed time = 5 seconds\n",
      "65% complete, elapsed time = 5 seconds\n",
      "70% complete, elapsed time = 6 seconds\n",
      "75% complete, elapsed time = 6 seconds\n",
      "80% complete, elapsed time = 6 seconds\n",
      "85% complete, elapsed time = 6 seconds\n",
      "90% complete, elapsed time = 7 seconds\n",
      "95% complete, elapsed time = 7 seconds\n",
      "100% complete, elapsed time = 7 seconds\n",
      "\n",
      "Total runtime to download pre-processed halo catalog = 7.2 seconds\n",
      "\n",
      "\n",
      "The halo catalog has been successfully downloaded to the following location:\n",
      "/home/mshiferaw/.astropy/cache/halotools/halo_catalogs/multidark/rockstar/hlist_0.31765.list.halotools_v0p4.hdf5\n",
      "\n",
      "This filename and its associated metadata have also been added to the Halotools cache log, \n",
      "as reflected by a newly added line to the following ASCII file:\n",
      "\n",
      "/home/mshiferaw/.astropy/cache/halotools/halo_table_cache_log.txt\n",
      "\n",
      "Since the catalog will now be recognized in cache, \n",
      "you can load it into memory using the following syntax:\n",
      "\n",
      ">>> from halotools.sim_manager import CachedHaloCatalog \n",
      ">>> halocat = CachedHaloCatalog(simname = 'multidark', halo_finder = 'rockstar', version_name = 'halotools_v0p4', redshift = 2.1481) \n",
      "\n",
      "For convenience, you can set this catalog to be your default catalog \n",
      "and omit the CachedHaloCatalog constructor arguments.\n",
      "To do that, change the following variables in the \n",
      "halotools.sim_manager.sim_defaults module:\n",
      "``default_simname``, ``default_halo_finder``, ``default_version_name`` and ``default_redshift``.\n",
      "\n",
      "Tabular data storing the actual halos is bound to the ``halo_table`` \n",
      "attribute of ``halocat`` in the form of an Astropy Table:\n",
      "\n",
      ">>> halos = halocat.halo_table \n",
      "\n",
      "Halo properties are accessed in the same manner as a python dictionary or Numpy structured array:\n",
      "\n",
      ">>> mass_array = halos['halo_mvir'] \n",
      "\n",
      "The ``halocat`` object also contains additional metadata \n",
      "such as ``halocat.simname``, ``halocat.redshift`` and ``halocat.fname`` \n",
      "that you can use for sanity checks on your bookkeeping.\n",
      "\n",
      "Note that if you move this halo catalog into a new location on disk, \n",
      "you must update both the ``fname`` metadata of the hdf5 file \n",
      "as well as the``fname`` column of the corresponding entry in the log. \n",
      "You can accomplish this with the ``update_cached_file_location``method \n",
      "of the HaloTableCache class.\n",
      "\n",
      "\n"
     ]
    }
   ],
   "source": [
    "dman.download_processed_halo_table('multidark', 'rockstar', 2.15)"
   ]
  },
  {
   "cell_type": "code",
   "execution_count": null,
   "id": "436bcdde-a9d7-4d3b-9fa2-fb5bbd2d2039",
   "metadata": {},
   "outputs": [],
   "source": [
    "halocat = CachedHaloCatalog(simname = 'multidark', halo_finder = 'rockstar', redshift = 2.15)\n",
    "halos = halocat.halo_table"
   ]
  },
  {
   "cell_type": "code",
   "execution_count": null,
   "id": "69c2cba8-401e-457d-9e72-8265b0c079dc",
   "metadata": {},
   "outputs": [
    {
     "name": "stdout",
     "output_type": "stream",
     "text": [
      "halo_vmax_firstacc halo_dmvir_dt_tdyn ... halo_hostid halo_mvir_host_halo\n",
      "------------------ ------------------ ... ----------- -------------------\n",
      "            396.39             2534.0 ...    94874702     4649000000000.0\n",
      "            356.85             1932.0 ...    94874712     3603000000000.0\n",
      "            352.23              316.2 ...    94874739     3446000000000.0\n",
      "            379.52             4559.0 ...    94874742     4074000000000.0\n",
      "            404.19             3767.0 ...    94874782     5312000000000.0\n",
      "            848.53            32540.0 ...    94894746    33460000000000.0\n",
      "            342.91              390.8 ...    94894746    33460000000000.0\n",
      "            715.67            13530.0 ...    94894761    29880000000000.0\n",
      "             603.0            14230.0 ...    94894783    18210000000000.0\n"
     ]
    }
   ],
   "source": [
    "print(halos[0:9])"
   ]
  },
  {
   "cell_type": "code",
   "execution_count": null,
   "id": "1f388942-242e-451a-94dd-82b0bde18cdb",
   "metadata": {},
   "outputs": [
    {
     "name": "stdout",
     "output_type": "stream",
     "text": [
      "\n",
      "... Downloading data from the following location: \n",
      "http://www.astro.yale.edu/aphearin/Data_files/halo_catalogs/multidark/rockstar/hlist_0.49990.list.halotools_v0p4.hdf5\n",
      "\n",
      " ... Saving the data with the following filename: \n",
      "/home/mshiferaw/.astropy/cache/halotools/halo_catalogs/multidark/rockstar/hlist_0.49990.list.halotools_v0p4.hdf5\n",
      "\n",
      "5% complete, elapsed time = 3 seconds\n",
      "10% complete, elapsed time = 4 seconds\n",
      "15% complete, elapsed time = 7 seconds\n",
      "20% complete, elapsed time = 8 seconds\n",
      "25% complete, elapsed time = 10 seconds\n",
      "30% complete, elapsed time = 11 seconds\n",
      "35% complete, elapsed time = 13 seconds\n",
      "40% complete, elapsed time = 15 seconds\n",
      "45% complete, elapsed time = 16 seconds\n",
      "50% complete, elapsed time = 18 seconds\n",
      "55% complete, elapsed time = 20 seconds\n",
      "60% complete, elapsed time = 22 seconds\n",
      "65% complete, elapsed time = 24 seconds\n",
      "70% complete, elapsed time = 25 seconds\n",
      "75% complete, elapsed time = 27 seconds\n",
      "80% complete, elapsed time = 29 seconds\n",
      "85% complete, elapsed time = 31 seconds\n",
      "90% complete, elapsed time = 32 seconds\n",
      "95% complete, elapsed time = 34 seconds\n",
      "100% complete, elapsed time = 36 seconds\n",
      "\n",
      "Total runtime to download pre-processed halo catalog = 36.1 seconds\n",
      "\n",
      "\n",
      "The halo catalog has been successfully downloaded to the following location:\n",
      "/home/mshiferaw/.astropy/cache/halotools/halo_catalogs/multidark/rockstar/hlist_0.49990.list.halotools_v0p4.hdf5\n",
      "\n",
      "This filename and its associated metadata have also been added to the Halotools cache log, \n",
      "as reflected by a newly added line to the following ASCII file:\n",
      "\n",
      "/home/mshiferaw/.astropy/cache/halotools/halo_table_cache_log.txt\n",
      "\n",
      "Since the catalog will now be recognized in cache, \n",
      "you can load it into memory using the following syntax:\n",
      "\n",
      ">>> from halotools.sim_manager import CachedHaloCatalog \n",
      ">>> halocat = CachedHaloCatalog(simname = 'multidark', halo_finder = 'rockstar', version_name = 'halotools_v0p4', redshift = 1.0004) \n",
      "\n",
      "For convenience, you can set this catalog to be your default catalog \n",
      "and omit the CachedHaloCatalog constructor arguments.\n",
      "To do that, change the following variables in the \n",
      "halotools.sim_manager.sim_defaults module:\n",
      "``default_simname``, ``default_halo_finder``, ``default_version_name`` and ``default_redshift``.\n",
      "\n",
      "Tabular data storing the actual halos is bound to the ``halo_table`` \n",
      "attribute of ``halocat`` in the form of an Astropy Table:\n",
      "\n",
      ">>> halos = halocat.halo_table \n",
      "\n",
      "Halo properties are accessed in the same manner as a python dictionary or Numpy structured array:\n",
      "\n",
      ">>> mass_array = halos['halo_mvir'] \n",
      "\n",
      "The ``halocat`` object also contains additional metadata \n",
      "such as ``halocat.simname``, ``halocat.redshift`` and ``halocat.fname`` \n",
      "that you can use for sanity checks on your bookkeeping.\n",
      "\n",
      "Note that if you move this halo catalog into a new location on disk, \n",
      "you must update both the ``fname`` metadata of the hdf5 file \n",
      "as well as the``fname`` column of the corresponding entry in the log. \n",
      "You can accomplish this with the ``update_cached_file_location``method \n",
      "of the HaloTableCache class.\n",
      "\n",
      "\n"
     ]
    },
    {
     "name": "stderr",
     "output_type": "stream",
     "text": [
      "/home/mshiferaw/anaconda3/envs/jupyter-env/lib/python3.8/site-packages/halotools/sim_manager/halo_table_cache.py:177: UserWarning: The cache log already contains the entry\n",
      "  warn(\"The cache log already contains the entry\")\n"
     ]
    }
   ],
   "source": [
    "dman.download_processed_halo_table('multidark', 'rockstar', 1, overwrite = True, ignore_nearby_redshifts = True)"
   ]
  },
  {
   "cell_type": "code",
   "execution_count": null,
   "id": "a4676c70-3b04-4a74-9901-ed75826d282f",
   "metadata": {},
   "outputs": [],
   "source": [
    "halocat = CachedHaloCatalog(simname = 'multidark', halo_finder = 'rockstar', redshift = 1)\n",
    "halos = halocat.halo_table"
   ]
  },
  {
   "cell_type": "code",
   "execution_count": null,
   "id": "d18f9a46-a301-4407-bee6-10fe8cd1cbcd",
   "metadata": {},
   "outputs": [
    {
     "name": "stdout",
     "output_type": "stream",
     "text": [
      "halo_vmax_firstacc halo_dmvir_dt_tdyn ... halo_hostid halo_mvir_host_halo\n",
      "------------------ ------------------ ... ----------- -------------------\n",
      "            608.71            14510.0 ...   246418313    34970000000000.0\n",
      "            407.02            -4160.0 ...   246418313    34970000000000.0\n",
      "            279.33              112.5 ...   246418346     2547000000000.0\n",
      "            516.26            -2139.0 ...   246418348    17790000000000.0\n",
      "            393.64            -2205.0 ...   246418356     5513000000000.0\n",
      "            566.08             7467.0 ...   246418385    27680000000000.0\n",
      "            350.06             -570.3 ...   246418385    27680000000000.0\n",
      "            295.99             -456.4 ...   246418385    27680000000000.0\n",
      "            298.95             1140.0 ...   246418400     3690000000000.0\n"
     ]
    }
   ],
   "source": [
    "print(halos[0:9])"
   ]
  },
  {
   "cell_type": "markdown",
   "id": "ae917c4a-ed3e-4550-8718-f9e2e96ed6bc",
   "metadata": {},
   "source": [
    "# Questions\n",
    "- halo_pid points to any specific subhalo? or it just tells you it's a sub-subhalo?\n",
    "- halo_id vs halo_hostid for galaxies?\n",
    "- halo_x vs x for galaxies? halo_vx vs vx? just host halo vs central galaxy?\n",
    "- do i need to design my own galaxy-halo model?\n",
    "- will I use halo_tools clustering or corrfunc clustering? \n",
    "    - compute_average_galaxy_clustering shouldn't be used in MCMC, and wp function doesn't work on observable data... how do you use halotools with corrfunc?"
   ]
  },
  {
   "cell_type": "code",
   "execution_count": null,
   "id": "14392310-0a28-47a1-a2ce-af9ba417d8ac",
   "metadata": {},
   "outputs": [],
   "source": []
  }
 ],
 "metadata": {
  "kernelspec": {
   "display_name": "Python (jupyter-env)",
   "language": "python",
   "name": "jupyter-env"
  },
  "language_info": {
   "codemirror_mode": {
    "name": "ipython",
    "version": 3
   },
   "file_extension": ".py",
   "mimetype": "text/x-python",
   "name": "python",
   "nbconvert_exporter": "python",
   "pygments_lexer": "ipython3",
   "version": "3.8.16"
  }
 },
 "nbformat": 4,
 "nbformat_minor": 5
}
