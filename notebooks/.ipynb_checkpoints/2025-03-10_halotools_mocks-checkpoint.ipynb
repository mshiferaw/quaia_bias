{
 "cells": [
  {
   "cell_type": "code",
   "execution_count": 1,
   "id": "5096850b-5f6f-4d01-b3c8-38d48df8834a",
   "metadata": {},
   "outputs": [],
   "source": [
    "from halotools.sim_manager import CachedHaloCatalog\n",
    "from halotools.empirical_models import PrebuiltHodModelFactory\n",
    "import numpy as np\n",
    "from matplotlib import pyplot as plt\n",
    "from halotools.mock_observables import hod_from_mock"
   ]
  },
  {
   "cell_type": "markdown",
   "id": "9efea86a-38f2-406e-827c-4609c4f2247f",
   "metadata": {},
   "source": [
    "# Build models and make mocks\n",
    "## Use prebuilt model provided by halotools"
   ]
  },
  {
   "cell_type": "code",
   "execution_count": 52,
   "id": "e8c9b767-97bd-4c49-b4fa-2a101ea24926",
   "metadata": {},
   "outputs": [],
   "source": [
    "zheng07_model = PrebuiltHodModelFactory('zheng07', threshold = -19.5, redshift = 0.5)"
   ]
  },
  {
   "cell_type": "code",
   "execution_count": 55,
   "id": "d0d4ef1d-76bc-44a3-833a-fc46375204fb",
   "metadata": {},
   "outputs": [
    {
     "data": {
      "text/plain": [
       "{'logMmin': 12.5,\n",
       " 'sigma_logM': 0.28,\n",
       " 'logM0': 11.69,\n",
       " 'logM1': 13.01,\n",
       " 'alpha': 1.06}"
      ]
     },
     "execution_count": 55,
     "metadata": {},
     "output_type": "execute_result"
    }
   ],
   "source": [
    "zheng07_model.param_dict"
   ]
  },
  {
   "cell_type": "code",
   "execution_count": 54,
   "id": "9f894003-76fb-483b-98a3-066cf950ad96",
   "metadata": {},
   "outputs": [],
   "source": [
    "zheng07_model.param_dict['logMmin'] = 12.5"
   ]
  },
  {
   "cell_type": "code",
   "execution_count": 14,
   "id": "07cd9de9-a7b6-49e0-af09-2e132251e483",
   "metadata": {},
   "outputs": [],
   "source": [
    "halocat = CachedHaloCatalog(simname = 'bolshoi', redshift = 0.5)"
   ]
  },
  {
   "cell_type": "code",
   "execution_count": 15,
   "id": "c5667c36-4dcd-424e-a089-555427ccd584",
   "metadata": {},
   "outputs": [],
   "source": [
    "halos = halocat.halo_table"
   ]
  },
  {
   "cell_type": "code",
   "execution_count": 16,
   "id": "7826db85-47a6-429b-a5d9-0bfbe0b4e625",
   "metadata": {},
   "outputs": [
    {
     "name": "stdout",
     "output_type": "stream",
     "text": [
      "halo_vmax_firstacc halo_dmvir_dt_tdyn ... halo_hostid halo_mvir_host_halo\n",
      "------------------ ------------------ ... ----------- -------------------\n",
      "            917.78             6630.0 ...  1805589089   117300000000000.0\n",
      "            100.65              280.6 ...  1805589089   117300000000000.0\n",
      "              91.4             -3.247 ...  1805589089   117300000000000.0\n",
      "             63.53              1.725 ...  1805589089   117300000000000.0\n",
      "            264.93             -57.76 ...  1805589089   117300000000000.0\n",
      "             87.28            -0.4211 ...  1805589089   117300000000000.0\n",
      "             92.93             -2.533 ...  1805589460       27670000000.0\n",
      "             84.96             -1.642 ...  1805589089   117300000000000.0\n",
      "            121.69             -3.265 ...  1805589089   117300000000000.0\n"
     ]
    }
   ],
   "source": [
    "print(halos[0:9])"
   ]
  },
  {
   "cell_type": "code",
   "execution_count": 17,
   "id": "e7288229-be07-4213-a301-7c4efdaa9360",
   "metadata": {},
   "outputs": [
    {
     "name": "stdout",
     "output_type": "stream",
     "text": [
      "['halo_vmax_firstacc', 'halo_dmvir_dt_tdyn', 'halo_macc', 'halo_scale_factor', 'halo_vmax_mpeak', 'halo_m_pe_behroozi', 'halo_xoff', 'halo_spin', 'halo_scale_factor_firstacc', 'halo_c_to_a', 'halo_mvir_firstacc', 'halo_scale_factor_last_mm', 'halo_scale_factor_mpeak', 'halo_pid', 'halo_m500c', 'halo_id', 'halo_halfmass_scale_factor', 'halo_upid', 'halo_t_by_u', 'halo_rvir', 'halo_vpeak', 'halo_dmvir_dt_100myr', 'halo_mpeak', 'halo_m_pe_diemer', 'halo_jx', 'halo_jy', 'halo_jz', 'halo_m2500c', 'halo_mvir', 'halo_voff', 'halo_axisA_z', 'halo_axisA_x', 'halo_axisA_y', 'halo_y', 'halo_b_to_a', 'halo_x', 'halo_z', 'halo_m200b', 'halo_vacc', 'halo_scale_factor_lastacc', 'halo_vmax', 'halo_m200c', 'halo_vx', 'halo_vy', 'halo_vz', 'halo_dmvir_dt_inst', 'halo_rs', 'halo_nfw_conc', 'halo_hostid', 'halo_mvir_host_halo']\n"
     ]
    }
   ],
   "source": [
    "print(halos.keys())"
   ]
  },
  {
   "cell_type": "code",
   "execution_count": 18,
   "id": "8f650b05-1fe3-42af-8acb-20c8eae74632",
   "metadata": {},
   "outputs": [
    {
     "data": {
      "text/html": [
       "<div><i>Table length=1420182</i>\n",
       "<table id=\"table139674014463120\" class=\"table-striped table-bordered table-condensed\">\n",
       "<thead><tr><th>halo_pid</th><th>halo_upid</th><th>halo_hostid</th><th>halo_z</th><th>halo_vz</th></tr></thead>\n",
       "<thead><tr><th>int64</th><th>int64</th><th>int64</th><th>float32</th><th>float32</th></tr></thead>\n",
       "<tr><td>-1</td><td>-1</td><td>1805589089</td><td>18.18657</td><td>-119.05</td></tr>\n",
       "<tr><td>1805589089</td><td>1805589089</td><td>1805589089</td><td>18.20386</td><td>-38.88</td></tr>\n",
       "<tr><td>1805589198</td><td>1805589089</td><td>1805589089</td><td>18.06294</td><td>262.81</td></tr>\n",
       "<tr><td>1805590461</td><td>1805589089</td><td>1805589089</td><td>17.87904</td><td>-382.43</td></tr>\n",
       "<tr><td>1805589089</td><td>1805589089</td><td>1805589089</td><td>18.35121</td><td>61.77</td></tr>\n",
       "<tr><td>1805589089</td><td>1805589089</td><td>1805589089</td><td>18.4579</td><td>-532.1</td></tr>\n",
       "<tr><td>-1</td><td>-1</td><td>1805589460</td><td>17.52933</td><td>97.16</td></tr>\n",
       "<tr><td>1805589089</td><td>1805589089</td><td>1805589089</td><td>18.20446</td><td>-629.8</td></tr>\n",
       "<tr><td>1805589089</td><td>1805589089</td><td>1805589089</td><td>18.12643</td><td>-346.33</td></tr>\n",
       "<tr><td>1805589198</td><td>1805589089</td><td>1805589089</td><td>18.21831</td><td>-115.55</td></tr>\n",
       "<tr><td>...</td><td>...</td><td>...</td><td>...</td><td>...</td></tr>\n",
       "<tr><td>1818327532</td><td>1818327532</td><td>1818327532</td><td>224.98357</td><td>-365.07</td></tr>\n",
       "<tr><td>1818352402</td><td>1818352357</td><td>1818352357</td><td>245.43846</td><td>-135.57</td></tr>\n",
       "<tr><td>-1</td><td>-1</td><td>1818314110</td><td>213.64597</td><td>212.42</td></tr>\n",
       "<tr><td>1818295246</td><td>1818295250</td><td>1818295250</td><td>207.61368</td><td>82.45</td></tr>\n",
       "<tr><td>1818353158</td><td>1818353158</td><td>1818353158</td><td>247.22607</td><td>122.24</td></tr>\n",
       "<tr><td>1818311770</td><td>1818311770</td><td>1818311770</td><td>218.91487</td><td>-482.39</td></tr>\n",
       "<tr><td>-1</td><td>-1</td><td>1818312752</td><td>217.82092</td><td>-96.74</td></tr>\n",
       "<tr><td>1818327655</td><td>1818327655</td><td>1818327655</td><td>221.87311</td><td>-38.0</td></tr>\n",
       "<tr><td>-1</td><td>-1</td><td>1818336293</td><td>229.55841</td><td>-282.02</td></tr>\n",
       "<tr><td>-1</td><td>-1</td><td>1818314414</td><td>218.01546</td><td>-137.91</td></tr>\n",
       "</table></div>"
      ],
      "text/plain": [
       "<Table length=1420182>\n",
       " halo_pid  halo_upid  halo_hostid   halo_z  halo_vz\n",
       "  int64      int64       int64     float32  float32\n",
       "---------- ---------- ----------- --------- -------\n",
       "        -1         -1  1805589089  18.18657 -119.05\n",
       "1805589089 1805589089  1805589089  18.20386  -38.88\n",
       "1805589198 1805589089  1805589089  18.06294  262.81\n",
       "1805590461 1805589089  1805589089  17.87904 -382.43\n",
       "1805589089 1805589089  1805589089  18.35121   61.77\n",
       "1805589089 1805589089  1805589089   18.4579  -532.1\n",
       "        -1         -1  1805589460  17.52933   97.16\n",
       "1805589089 1805589089  1805589089  18.20446  -629.8\n",
       "1805589089 1805589089  1805589089  18.12643 -346.33\n",
       "1805589198 1805589089  1805589089  18.21831 -115.55\n",
       "       ...        ...         ...       ...     ...\n",
       "1818327532 1818327532  1818327532 224.98357 -365.07\n",
       "1818352402 1818352357  1818352357 245.43846 -135.57\n",
       "        -1         -1  1818314110 213.64597  212.42\n",
       "1818295246 1818295250  1818295250 207.61368   82.45\n",
       "1818353158 1818353158  1818353158 247.22607  122.24\n",
       "1818311770 1818311770  1818311770 218.91487 -482.39\n",
       "        -1         -1  1818312752 217.82092  -96.74\n",
       "1818327655 1818327655  1818327655 221.87311   -38.0\n",
       "        -1         -1  1818336293 229.55841 -282.02\n",
       "        -1         -1  1818314414 218.01546 -137.91"
      ]
     },
     "execution_count": 18,
     "metadata": {},
     "output_type": "execute_result"
    }
   ],
   "source": [
    "halos['halo_pid', 'halo_upid', 'halo_hostid', 'halo_z', 'halo_vz']"
   ]
  },
  {
   "cell_type": "code",
   "execution_count": 19,
   "id": "d6a0310e-9451-4681-87c1-5d380ccfc3a0",
   "metadata": {},
   "outputs": [
    {
     "data": {
      "text/html": [
       "&lt;Column name=&apos;halo_hostid&apos; dtype=&apos;int64&apos; length=2&gt;\n",
       "<table>\n",
       "<tr><td>1805589089</td></tr>\n",
       "<tr><td>1805589089</td></tr>\n",
       "</table>"
      ],
      "text/plain": [
       "<Column name='halo_hostid' dtype='int64' length=2>\n",
       "1805589089\n",
       "1805589089"
      ]
     },
     "execution_count": 19,
     "metadata": {},
     "output_type": "execute_result"
    }
   ],
   "source": [
    "halos['halo_hostid'][halos['halo_pid']==1805590461\t] # halo pid doesn't point to a specific upid or host id"
   ]
  },
  {
   "cell_type": "code",
   "execution_count": 20,
   "id": "b40bdc08-064f-4759-848a-1f7ce5b956ed",
   "metadata": {},
   "outputs": [
    {
     "name": "stderr",
     "output_type": "stream",
     "text": [
      "WARNING: AstropyDeprecationWarning: `astropy.cosmology.core.FLRW` has been moved (since v5.0) and should be imported as ``from astropy.cosmology import FLRW``. In future this will raise an exception. [astropy.cosmology.core]\n"
     ]
    }
   ],
   "source": [
    "zheng07_model.populate_mock(halocat)"
   ]
  },
  {
   "cell_type": "code",
   "execution_count": 21,
   "id": "609586b7-233b-4705-b475-b335eff26458",
   "metadata": {},
   "outputs": [],
   "source": [
    "galaxies = zheng07_model.mock.galaxy_table"
   ]
  },
  {
   "cell_type": "code",
   "execution_count": 22,
   "id": "b14f48ee-be7f-4256-ad79-ef04bb358667",
   "metadata": {},
   "outputs": [
    {
     "data": {
      "text/plain": [
       "(122715, 1420182)"
      ]
     },
     "execution_count": 22,
     "metadata": {},
     "output_type": "execute_result"
    }
   ],
   "source": [
    "len(galaxies), len(halos)"
   ]
  },
  {
   "cell_type": "code",
   "execution_count": 23,
   "id": "30438353-3a25-4c41-8dc8-3b9a2f683417",
   "metadata": {},
   "outputs": [
    {
     "name": "stdout",
     "output_type": "stream",
     "text": [
      "halo_upid halo_rvir  halo_vy  halo_y  ...    vz      x     host_centric_distance\n",
      "--------- ---------- ------- -------- ... ------- -------- ---------------------\n",
      "       -1  1.1571131  -11.95 43.13491 ... -119.05 35.73223                   0.0\n",
      "       -1   1.105502  490.94 47.97213 ... -152.86 45.00907                   0.0\n",
      "       -1  1.0630109  144.48 13.35399 ...  -69.74 21.62638                   0.0\n",
      "       -1 0.90204996  161.45 13.84255 ... -124.57 26.80523                   0.0\n",
      "       -1   0.929493  267.63 28.60934 ...   202.1  0.71409                   0.0\n",
      "       -1 0.92395097  212.12 25.34845 ... -216.25 10.51264                   0.0\n",
      "       -1   0.820718    92.3  36.3899 ... -435.21 12.90159                   0.0\n",
      "       -1   0.924992  171.66  6.15593 ...  -94.42  46.9032                   0.0\n",
      "       -1   0.866734  267.07 23.39546 ... -539.47 15.02275                   0.0\n"
     ]
    }
   ],
   "source": [
    "print(galaxies[0:9])"
   ]
  },
  {
   "cell_type": "code",
   "execution_count": 24,
   "id": "fd7306c4-011e-482b-bf1d-0f990b83d8aa",
   "metadata": {},
   "outputs": [
    {
     "name": "stdout",
     "output_type": "stream",
     "text": [
      "['halo_upid', 'halo_rvir', 'halo_vy', 'halo_y', 'conc_NFWmodel', 'halo_x', 'halo_mvir', 'halo_z', 'halo_vz', 'halo_id', 'halo_hostid', 'halo_vx', 'halo_num_centrals', 'halo_num_satellites', 'gal_type', 'z', 'y', 'vx', 'vy', 'vz', 'x', 'host_centric_distance']\n"
     ]
    }
   ],
   "source": [
    "print(galaxies.keys())"
   ]
  },
  {
   "cell_type": "code",
   "execution_count": 25,
   "id": "63365121-d4f9-4ab3-9ad1-d794a77bc306",
   "metadata": {},
   "outputs": [
    {
     "data": {
      "text/html": [
       "<div><i>Table length=122715</i>\n",
       "<table id=\"table139674018290128\" class=\"table-striped table-bordered table-condensed\">\n",
       "<thead><tr><th>halo_id</th><th>halo_hostid</th><th>halo_mvir</th><th>halo_upid</th><th>halo_num_centrals</th><th>halo_num_satellites</th><th>halo_z</th><th>halo_vz</th><th>gal_type</th><th>z</th><th>vz</th></tr></thead>\n",
       "<thead><tr><th>int64</th><th>int64</th><th>float32</th><th>int64</th><th>int32</th><th>int32</th><th>float32</th><th>float32</th><th>object</th><th>float32</th><th>float32</th></tr></thead>\n",
       "<tr><td>1805589089</td><td>1805589089</td><td>117300000000000.0</td><td>-1</td><td>1</td><td>17</td><td>18.18657</td><td>-119.05</td><td>centrals</td><td>18.18657</td><td>-119.05</td></tr>\n",
       "<tr><td>1805604915</td><td>1805604915</td><td>102300000000000.0</td><td>-1</td><td>1</td><td>11</td><td>40.30439</td><td>-152.86</td><td>centrals</td><td>40.30439</td><td>-152.86</td></tr>\n",
       "<tr><td>1803484120</td><td>1803484120</td><td>90970000000000.0</td><td>-1</td><td>1</td><td>7</td><td>9.67113</td><td>-69.74</td><td>centrals</td><td>9.67113</td><td>-69.74</td></tr>\n",
       "<tr><td>1803485520</td><td>1803485520</td><td>55590000000000.0</td><td>-1</td><td>1</td><td>9</td><td>5.36992</td><td>-124.57</td><td>centrals</td><td>5.36992</td><td>-124.57</td></tr>\n",
       "<tr><td>1803497704</td><td>1803497704</td><td>60820000000000.0</td><td>-1</td><td>1</td><td>7</td><td>16.9269</td><td>202.1</td><td>centrals</td><td>16.9269</td><td>202.1</td></tr>\n",
       "<tr><td>1803511225</td><td>1803511225</td><td>59740000000000.0</td><td>-1</td><td>1</td><td>6</td><td>23.38622</td><td>-216.25</td><td>centrals</td><td>23.38622</td><td>-216.25</td></tr>\n",
       "<tr><td>1803756359</td><td>1803756359</td><td>41870000000000.0</td><td>-1</td><td>1</td><td>2</td><td>35.39057</td><td>-435.21</td><td>centrals</td><td>35.39057</td><td>-435.21</td></tr>\n",
       "<tr><td>1805383224</td><td>1805383224</td><td>59940000000000.0</td><td>-1</td><td>1</td><td>4</td><td>41.96936</td><td>-94.42</td><td>centrals</td><td>41.96936</td><td>-94.42</td></tr>\n",
       "<tr><td>1803527194</td><td>1803527194</td><td>49310000000000.0</td><td>-1</td><td>1</td><td>12</td><td>40.50043</td><td>-539.47</td><td>centrals</td><td>40.50043</td><td>-539.47</td></tr>\n",
       "<tr><td>1803525841</td><td>1803525841</td><td>48370000000000.0</td><td>-1</td><td>1</td><td>4</td><td>34.83685</td><td>-555.31</td><td>centrals</td><td>34.83685</td><td>-555.31</td></tr>\n",
       "<tr><td>...</td><td>...</td><td>...</td><td>...</td><td>...</td><td>...</td><td>...</td><td>...</td><td>...</td><td>...</td><td>...</td></tr>\n",
       "<tr><td>1818354369</td><td>1818354369</td><td>986000000000.0</td><td>-1</td><td>1</td><td>1</td><td>244.50984</td><td>-169.45</td><td>satellites</td><td>244.63661</td><td>-94.03904</td></tr>\n",
       "<tr><td>1816264037</td><td>1816264037</td><td>738200000000.0</td><td>-1</td><td>1</td><td>1</td><td>233.0379</td><td>-80.64</td><td>satellites</td><td>233.0187</td><td>-181.43585</td></tr>\n",
       "<tr><td>1818294159</td><td>1818294159</td><td>1735000000000.0</td><td>-1</td><td>1</td><td>1</td><td>204.22324</td><td>479.72</td><td>satellites</td><td>204.0604</td><td>591.12836</td></tr>\n",
       "<tr><td>1818315850</td><td>1818315850</td><td>727800000000.0</td><td>-1</td><td>1</td><td>1</td><td>219.85231</td><td>-172.62</td><td>satellites</td><td>220.00386</td><td>-172.7757</td></tr>\n",
       "<tr><td>1818324927</td><td>1818324927</td><td>9225000000000.0</td><td>-1</td><td>1</td><td>2</td><td>223.10173</td><td>-45.43</td><td>satellites</td><td>222.84734</td><td>-70.905106</td></tr>\n",
       "<tr><td>1818324927</td><td>1818324927</td><td>9225000000000.0</td><td>-1</td><td>1</td><td>2</td><td>223.10173</td><td>-45.43</td><td>satellites</td><td>222.95837</td><td>-79.030365</td></tr>\n",
       "<tr><td>1818326033</td><td>1818326033</td><td>3663000000000.0</td><td>-1</td><td>1</td><td>1</td><td>219.71559</td><td>159.84</td><td>satellites</td><td>219.72409</td><td>162.30612</td></tr>\n",
       "<tr><td>1818324054</td><td>1818324054</td><td>631700000000.0</td><td>-1</td><td>1</td><td>1</td><td>221.64713</td><td>-185.79</td><td>satellites</td><td>221.6303</td><td>-388.84088</td></tr>\n",
       "<tr><td>1816482815</td><td>1816482815</td><td>1383000000000.0</td><td>-1</td><td>1</td><td>1</td><td>200.70383</td><td>212.26</td><td>satellites</td><td>200.70341</td><td>132.44518</td></tr>\n",
       "<tr><td>1816478123</td><td>1816478123</td><td>1281000000000.0</td><td>-1</td><td>1</td><td>1</td><td>203.40134</td><td>227.84</td><td>satellites</td><td>203.36455</td><td>240.2246</td></tr>\n",
       "</table></div>"
      ],
      "text/plain": [
       "<Table length=122715>\n",
       " halo_id   halo_hostid     halo_mvir     ...  gal_type      z         vz    \n",
       "  int64       int64         float32      ...   object    float32   float32  \n",
       "---------- ----------- ----------------- ... ---------- --------- ----------\n",
       "1805589089  1805589089 117300000000000.0 ...   centrals  18.18657    -119.05\n",
       "1805604915  1805604915 102300000000000.0 ...   centrals  40.30439    -152.86\n",
       "1803484120  1803484120  90970000000000.0 ...   centrals   9.67113     -69.74\n",
       "1803485520  1803485520  55590000000000.0 ...   centrals   5.36992    -124.57\n",
       "1803497704  1803497704  60820000000000.0 ...   centrals   16.9269      202.1\n",
       "1803511225  1803511225  59740000000000.0 ...   centrals  23.38622    -216.25\n",
       "1803756359  1803756359  41870000000000.0 ...   centrals  35.39057    -435.21\n",
       "1805383224  1805383224  59940000000000.0 ...   centrals  41.96936     -94.42\n",
       "1803527194  1803527194  49310000000000.0 ...   centrals  40.50043    -539.47\n",
       "1803525841  1803525841  48370000000000.0 ...   centrals  34.83685    -555.31\n",
       "       ...         ...               ... ...        ...       ...        ...\n",
       "1818354369  1818354369    986000000000.0 ... satellites 244.63661  -94.03904\n",
       "1816264037  1816264037    738200000000.0 ... satellites  233.0187 -181.43585\n",
       "1818294159  1818294159   1735000000000.0 ... satellites  204.0604  591.12836\n",
       "1818315850  1818315850    727800000000.0 ... satellites 220.00386  -172.7757\n",
       "1818324927  1818324927   9225000000000.0 ... satellites 222.84734 -70.905106\n",
       "1818324927  1818324927   9225000000000.0 ... satellites 222.95837 -79.030365\n",
       "1818326033  1818326033   3663000000000.0 ... satellites 219.72409  162.30612\n",
       "1818324054  1818324054    631700000000.0 ... satellites  221.6303 -388.84088\n",
       "1816482815  1816482815   1383000000000.0 ... satellites 200.70341  132.44518\n",
       "1816478123  1816478123   1281000000000.0 ... satellites 203.36455   240.2246"
      ]
     },
     "execution_count": 25,
     "metadata": {},
     "output_type": "execute_result"
    }
   ],
   "source": [
    "galaxies['halo_id', 'halo_hostid', 'halo_mvir', 'halo_upid', 'halo_num_centrals', 'halo_num_satellites', 'halo_z', 'halo_vz', 'gal_type', 'z', 'vz']"
   ]
  },
  {
   "cell_type": "code",
   "execution_count": 26,
   "id": "e968c2b8-3a31-4d1e-b05e-d778c26930f6",
   "metadata": {},
   "outputs": [
    {
     "data": {
      "text/plain": [
       "(122715, 1064633)"
      ]
     },
     "execution_count": 26,
     "metadata": {},
     "output_type": "execute_result"
    }
   ],
   "source": [
    "len(galaxies), len(halos[halos['halo_upid']==-1]) # so not every central halo gets a galaxy"
   ]
  },
  {
   "cell_type": "code",
   "execution_count": 27,
   "id": "cf6cde5a-dca1-4f66-9209-7964cf50f72b",
   "metadata": {},
   "outputs": [
    {
     "data": {
      "text/plain": [
       "False"
      ]
     },
     "execution_count": 27,
     "metadata": {},
     "output_type": "execute_result"
    }
   ],
   "source": [
    "np.max(galaxies['gal_type'][galaxies['x']!=galaxies['halo_x']]=='centrals') # only centrals have matching halo and galaxy positions and velocities"
   ]
  },
  {
   "cell_type": "code",
   "execution_count": 28,
   "id": "c0cee265-2006-4ff3-9ea5-5560874694d2",
   "metadata": {},
   "outputs": [
    {
     "data": {
      "text/html": [
       "<div><i>Table length=2</i>\n",
       "<table id=\"table139674016966400\" class=\"table-striped table-bordered table-condensed\">\n",
       "<thead><tr><th>halo_upid</th><th>halo_rvir</th><th>halo_vy</th><th>halo_y</th><th>conc_NFWmodel</th><th>halo_x</th><th>halo_mvir</th><th>halo_z</th><th>halo_vz</th><th>halo_id</th><th>halo_hostid</th><th>halo_vx</th><th>halo_num_centrals</th><th>halo_num_satellites</th><th>gal_type</th><th>z</th><th>y</th><th>vx</th><th>vy</th><th>vz</th><th>x</th><th>host_centric_distance</th></tr></thead>\n",
       "<thead><tr><th>int64</th><th>float32</th><th>float32</th><th>float32</th><th>float32</th><th>float32</th><th>float32</th><th>float32</th><th>float32</th><th>int64</th><th>int64</th><th>float32</th><th>int32</th><th>int32</th><th>object</th><th>float32</th><th>float32</th><th>float32</th><th>float32</th><th>float32</th><th>float32</th><th>float64</th></tr></thead>\n",
       "<tr><td>-1</td><td>0.284013</td><td>56.7</td><td>225.77318</td><td>6.3640094</td><td>245.46457</td><td>1735000000000.0</td><td>204.22324</td><td>479.72</td><td>1818294159</td><td>1818294159</td><td>666.93</td><td>1</td><td>1</td><td>centrals</td><td>204.22324</td><td>225.77318</td><td>666.93</td><td>56.7</td><td>479.72</td><td>245.46457</td><td>0.0</td></tr>\n",
       "<tr><td>-1</td><td>0.284013</td><td>56.7</td><td>225.77318</td><td>6.3640094</td><td>245.46457</td><td>1735000000000.0</td><td>204.22324</td><td>479.72</td><td>1818294159</td><td>1818294159</td><td>666.93</td><td>1</td><td>1</td><td>satellites</td><td>204.0604</td><td>225.5764</td><td>651.6133</td><td>171.9189</td><td>591.12836</td><td>245.3659</td><td>0.27381281945775293</td></tr>\n",
       "</table></div>"
      ],
      "text/plain": [
       "<Table length=2>\n",
       "halo_upid halo_rvir halo_vy ...     vz        x     host_centric_distance\n",
       "  int64    float32  float32 ...  float32   float32         float64       \n",
       "--------- --------- ------- ... --------- --------- ---------------------\n",
       "       -1  0.284013    56.7 ...    479.72 245.46457                   0.0\n",
       "       -1  0.284013    56.7 ... 591.12836  245.3659   0.27381281945775293"
      ]
     },
     "execution_count": 28,
     "metadata": {},
     "output_type": "execute_result"
    }
   ],
   "source": [
    "galaxies[galaxies['halo_hostid']==1818294159] # halo_num_centrals and halo_num_satellites tells you number of centrals and halos in the host"
   ]
  },
  {
   "cell_type": "markdown",
   "id": "288caaa6-f0fb-410a-83ac-6de6757b1069",
   "metadata": {},
   "source": [
    "### Sanity check by plotting HOD"
   ]
  },
  {
   "cell_type": "code",
   "execution_count": 29,
   "id": "2de02ad2-c052-4a52-a49f-4e467cdfd87e",
   "metadata": {},
   "outputs": [],
   "source": [
    "halo_mass = np.logspace(11, 15, 100)"
   ]
  },
  {
   "cell_type": "code",
   "execution_count": 30,
   "id": "fd6a0fbd-c4f8-4cfc-a12b-7d5adc8212b5",
   "metadata": {},
   "outputs": [],
   "source": [
    "mean_ncen = zheng07_model.mean_occupation_centrals(prim_haloprop = halo_mass)\n",
    "mean_nsat = zheng07_model.mean_occupation_satellites(prim_haloprop = halo_mass)"
   ]
  },
  {
   "cell_type": "code",
   "execution_count": 31,
   "id": "6b7dca99-2a2b-459e-8f3d-0167f10a90f8",
   "metadata": {},
   "outputs": [
    {
     "data": {
      "text/html": [
       "<div><i>Table length=18</i>\n",
       "<table id=\"table139674016967600\" class=\"table-striped table-bordered table-condensed\">\n",
       "<thead><tr><th>halo_upid</th><th>halo_rvir</th><th>halo_vy</th><th>halo_y</th><th>conc_NFWmodel</th><th>halo_x</th><th>halo_mvir</th><th>halo_z</th><th>halo_vz</th><th>halo_id</th><th>halo_hostid</th><th>halo_vx</th><th>halo_num_centrals</th><th>halo_num_satellites</th><th>gal_type</th><th>z</th><th>y</th><th>vx</th><th>vy</th><th>vz</th><th>x</th><th>host_centric_distance</th></tr></thead>\n",
       "<thead><tr><th>int64</th><th>float32</th><th>float32</th><th>float32</th><th>float32</th><th>float32</th><th>float32</th><th>float32</th><th>float32</th><th>int64</th><th>int64</th><th>float32</th><th>int32</th><th>int32</th><th>object</th><th>float32</th><th>float32</th><th>float32</th><th>float32</th><th>float32</th><th>float32</th><th>float64</th></tr></thead>\n",
       "<tr><td>-1</td><td>1.1571131</td><td>-11.95</td><td>43.13491</td><td>7.580469</td><td>35.73223</td><td>117300000000000.0</td><td>18.18657</td><td>-119.05</td><td>1805589089</td><td>1805589089</td><td>1.78</td><td>1</td><td>17</td><td>centrals</td><td>18.18657</td><td>43.13491</td><td>1.78</td><td>-11.95</td><td>-119.05</td><td>35.73223</td><td>0.0</td></tr>\n",
       "<tr><td>-1</td><td>1.1571131</td><td>-11.95</td><td>43.13491</td><td>7.580469</td><td>35.73223</td><td>117300000000000.0</td><td>18.18657</td><td>-119.05</td><td>1805589089</td><td>1805589089</td><td>1.78</td><td>1</td><td>17</td><td>satellites</td><td>18.234764</td><td>43.02836</td><td>520.8187</td><td>216.04659</td><td>-197.15118</td><td>35.83024</td><td>0.1525838232798617</td></tr>\n",
       "<tr><td>-1</td><td>1.1571131</td><td>-11.95</td><td>43.13491</td><td>7.580469</td><td>35.73223</td><td>117300000000000.0</td><td>18.18657</td><td>-119.05</td><td>1805589089</td><td>1805589089</td><td>1.78</td><td>1</td><td>17</td><td>satellites</td><td>18.365776</td><td>44.20773</td><td>-472.79984</td><td>451.71823</td><td>-1031.3588</td><td>35.581455</td><td>1.0980829337675746</td></tr>\n",
       "<tr><td>-1</td><td>1.1571131</td><td>-11.95</td><td>43.13491</td><td>7.580469</td><td>35.73223</td><td>117300000000000.0</td><td>18.18657</td><td>-119.05</td><td>1805589089</td><td>1805589089</td><td>1.78</td><td>1</td><td>17</td><td>satellites</td><td>17.347698</td><td>43.40914</td><td>-230.84506</td><td>74.034325</td><td>-416.7038</td><td>35.84493</td><td>0.8897239805868905</td></tr>\n",
       "<tr><td>-1</td><td>1.1571131</td><td>-11.95</td><td>43.13491</td><td>7.580469</td><td>35.73223</td><td>117300000000000.0</td><td>18.18657</td><td>-119.05</td><td>1805589089</td><td>1805589089</td><td>1.78</td><td>1</td><td>17</td><td>satellites</td><td>18.949144</td><td>43.819122</td><td>369.91705</td><td>74.75034</td><td>-99.210464</td><td>35.61838</td><td>1.030840006688362</td></tr>\n",
       "<tr><td>-1</td><td>1.1571131</td><td>-11.95</td><td>43.13491</td><td>7.580469</td><td>35.73223</td><td>117300000000000.0</td><td>18.18657</td><td>-119.05</td><td>1805589089</td><td>1805589089</td><td>1.78</td><td>1</td><td>17</td><td>satellites</td><td>19.202543</td><td>43.20949</td><td>-389.5532</td><td>-453.27924</td><td>1087.8029</td><td>35.244</td><td>1.1296615626611852</td></tr>\n",
       "<tr><td>-1</td><td>1.1571131</td><td>-11.95</td><td>43.13491</td><td>7.580469</td><td>35.73223</td><td>117300000000000.0</td><td>18.18657</td><td>-119.05</td><td>1805589089</td><td>1805589089</td><td>1.78</td><td>1</td><td>17</td><td>satellites</td><td>17.80709</td><td>43.43138</td><td>175.30122</td><td>-313.59906</td><td>105.729836</td><td>34.797264</td><td>1.051695986441608</td></tr>\n",
       "<tr><td>-1</td><td>1.1571131</td><td>-11.95</td><td>43.13491</td><td>7.580469</td><td>35.73223</td><td>117300000000000.0</td><td>18.18657</td><td>-119.05</td><td>1805589089</td><td>1805589089</td><td>1.78</td><td>1</td><td>17</td><td>satellites</td><td>18.222486</td><td>43.303978</td><td>-291.6179</td><td>-178.00502</td><td>-1128.7786</td><td>35.483326</td><td>0.3030309136328351</td></tr>\n",
       "<tr><td>-1</td><td>1.1571131</td><td>-11.95</td><td>43.13491</td><td>7.580469</td><td>35.73223</td><td>117300000000000.0</td><td>18.18657</td><td>-119.05</td><td>1805589089</td><td>1805589089</td><td>1.78</td><td>1</td><td>17</td><td>satellites</td><td>18.305752</td><td>43.19473</td><td>367.14603</td><td>42.199112</td><td>-324.90762</td><td>35.74957</td><td>0.13447454333094355</td></tr>\n",
       "<tr><td>-1</td><td>1.1571131</td><td>-11.95</td><td>43.13491</td><td>7.580469</td><td>35.73223</td><td>117300000000000.0</td><td>18.18657</td><td>-119.05</td><td>1805589089</td><td>1805589089</td><td>1.78</td><td>1</td><td>17</td><td>satellites</td><td>18.178743</td><td>43.098564</td><td>-429.2484</td><td>284.93427</td><td>-666.5406</td><td>35.714783</td><td>0.041069618930154116</td></tr>\n",
       "<tr><td>-1</td><td>1.1571131</td><td>-11.95</td><td>43.13491</td><td>7.580469</td><td>35.73223</td><td>117300000000000.0</td><td>18.18657</td><td>-119.05</td><td>1805589089</td><td>1805589089</td><td>1.78</td><td>1</td><td>17</td><td>satellites</td><td>18.44434</td><td>42.78592</td><td>816.3089</td><td>-86.16611</td><td>1138.8177</td><td>36.38067</td><td>0.7802008004806437</td></tr>\n",
       "<tr><td>-1</td><td>1.1571131</td><td>-11.95</td><td>43.13491</td><td>7.580469</td><td>35.73223</td><td>117300000000000.0</td><td>18.18657</td><td>-119.05</td><td>1805589089</td><td>1805589089</td><td>1.78</td><td>1</td><td>17</td><td>satellites</td><td>17.720665</td><td>43.16386</td><td>-234.99995</td><td>649.66284</td><td>-45.351147</td><td>35.781193</td><td>0.46936423460786786</td></tr>\n",
       "<tr><td>-1</td><td>1.1571131</td><td>-11.95</td><td>43.13491</td><td>7.580469</td><td>35.73223</td><td>117300000000000.0</td><td>18.18657</td><td>-119.05</td><td>1805589089</td><td>1805589089</td><td>1.78</td><td>1</td><td>17</td><td>satellites</td><td>18.570522</td><td>42.072792</td><td>184.34547</td><td>-207.01535</td><td>-54.534966</td><td>35.551884</td><td>1.1436946211831427</td></tr>\n",
       "<tr><td>-1</td><td>1.1571131</td><td>-11.95</td><td>43.13491</td><td>7.580469</td><td>35.73223</td><td>117300000000000.0</td><td>18.18657</td><td>-119.05</td><td>1805589089</td><td>1805589089</td><td>1.78</td><td>1</td><td>17</td><td>satellites</td><td>18.181454</td><td>43.063095</td><td>84.047615</td><td>458.22742</td><td>-211.36838</td><td>36.034306</td><td>0.31053572705974875</td></tr>\n",
       "<tr><td>-1</td><td>1.1571131</td><td>-11.95</td><td>43.13491</td><td>7.580469</td><td>35.73223</td><td>117300000000000.0</td><td>18.18657</td><td>-119.05</td><td>1805589089</td><td>1805589089</td><td>1.78</td><td>1</td><td>17</td><td>satellites</td><td>18.13086</td><td>43.45163</td><td>-553.4042</td><td>43.568867</td><td>-619.24097</td><td>36.292736</td><td>0.6462032507832389</td></tr>\n",
       "<tr><td>-1</td><td>1.1571131</td><td>-11.95</td><td>43.13491</td><td>7.580469</td><td>35.73223</td><td>117300000000000.0</td><td>18.18657</td><td>-119.05</td><td>1805589089</td><td>1805589089</td><td>1.78</td><td>1</td><td>17</td><td>satellites</td><td>18.152353</td><td>43.21418</td><td>7.9890633</td><td>-435.79092</td><td>-1187.5557</td><td>35.8179</td><td>0.12163050254393226</td></tr>\n",
       "<tr><td>-1</td><td>1.1571131</td><td>-11.95</td><td>43.13491</td><td>7.580469</td><td>35.73223</td><td>117300000000000.0</td><td>18.18657</td><td>-119.05</td><td>1805589089</td><td>1805589089</td><td>1.78</td><td>1</td><td>17</td><td>satellites</td><td>17.127928</td><td>43.061024</td><td>-103.562256</td><td>-284.1839</td><td>-520.4899</td><td>35.425617</td><td>1.1046235358514158</td></tr>\n",
       "<tr><td>-1</td><td>1.1571131</td><td>-11.95</td><td>43.13491</td><td>7.580469</td><td>35.73223</td><td>117300000000000.0</td><td>18.18657</td><td>-119.05</td><td>1805589089</td><td>1805589089</td><td>1.78</td><td>1</td><td>17</td><td>satellites</td><td>18.360641</td><td>43.250282</td><td>90.8752</td><td>-436.30997</td><td>133.82848</td><td>35.89768</td><td>0.2664280945229099</td></tr>\n",
       "</table></div>"
      ],
      "text/plain": [
       "<Table length=18>\n",
       "halo_upid halo_rvir halo_vy ...     vz         x     host_centric_distance\n",
       "  int64    float32  float32 ...  float32    float32         float64       \n",
       "--------- --------- ------- ... ---------- --------- ---------------------\n",
       "       -1 1.1571131  -11.95 ...    -119.05  35.73223                   0.0\n",
       "       -1 1.1571131  -11.95 ... -197.15118  35.83024    0.1525838232798617\n",
       "       -1 1.1571131  -11.95 ... -1031.3588 35.581455    1.0980829337675746\n",
       "       -1 1.1571131  -11.95 ...  -416.7038  35.84493    0.8897239805868905\n",
       "       -1 1.1571131  -11.95 ... -99.210464  35.61838     1.030840006688362\n",
       "       -1 1.1571131  -11.95 ...  1087.8029    35.244    1.1296615626611852\n",
       "       -1 1.1571131  -11.95 ... 105.729836 34.797264     1.051695986441608\n",
       "       -1 1.1571131  -11.95 ... -1128.7786 35.483326    0.3030309136328351\n",
       "       -1 1.1571131  -11.95 ... -324.90762  35.74957   0.13447454333094355\n",
       "       -1 1.1571131  -11.95 ...  -666.5406 35.714783  0.041069618930154116\n",
       "       -1 1.1571131  -11.95 ...  1138.8177  36.38067    0.7802008004806437\n",
       "       -1 1.1571131  -11.95 ... -45.351147 35.781193   0.46936423460786786\n",
       "       -1 1.1571131  -11.95 ... -54.534966 35.551884    1.1436946211831427\n",
       "       -1 1.1571131  -11.95 ... -211.36838 36.034306   0.31053572705974875\n",
       "       -1 1.1571131  -11.95 ... -619.24097 36.292736    0.6462032507832389\n",
       "       -1 1.1571131  -11.95 ... -1187.5557   35.8179   0.12163050254393226\n",
       "       -1 1.1571131  -11.95 ...  -520.4899 35.425617    1.1046235358514158\n",
       "       -1 1.1571131  -11.95 ...  133.82848  35.89768    0.2664280945229099"
      ]
     },
     "execution_count": 31,
     "metadata": {},
     "output_type": "execute_result"
    }
   ],
   "source": [
    "galaxies[galaxies['halo_hostid']==1805589089]"
   ]
  },
  {
   "cell_type": "code",
   "execution_count": 32,
   "id": "07ea87a6-d75f-4910-9787-96941093caa6",
   "metadata": {},
   "outputs": [],
   "source": [
    "def hod(galaxies_unique, halo_mass, linestyle = '--'):\n",
    "    \n",
    "    ind = np.digitize(galaxies_unique['halo_mvir'], halo_mass) # bin the halo masses\n",
    "    mean_ncen_mock = [np.sum(galaxies_unique['halo_num_centrals'][ind == i])/len(galaxies_unique['halo_num_centrals'][ind == i]) for i in range(len(halo_mass))]\n",
    "    mean_nsat_mock = [np.sum(galaxies_unique['halo_num_satellites'][ind == i])/len(galaxies_unique['halo_num_satellites'][ind == i]) for i in range(len(halo_mass))]\n",
    "    \n",
    "    plt.plot(halo_mass, mean_ncen_mock, label = 'centrals, mock', linestyle = linestyle)\n",
    "    plt.plot(halo_mass, mean_nsat_mock, label = 'satellites, mock', linestyle = linestyle)\n",
    "    plt.plot(halo_mass, np.add(mean_ncen_mock, mean_nsat_mock), label = 'total, mock', linestyle = linestyle)\n",
    "    \n",
    "    return mean_ncen_mock, mean_nsat_mock"
   ]
  },
  {
   "cell_type": "code",
   "execution_count": 33,
   "id": "56e796f0-9753-45ca-a28f-c4fb9b1ae70e",
   "metadata": {},
   "outputs": [],
   "source": [
    "unique_hostid, hostid_ind = np.unique(galaxies['halo_hostid'], return_index = True)"
   ]
  },
  {
   "cell_type": "code",
   "execution_count": 34,
   "id": "67d028a3-f2bf-47fd-9dc2-7728d86c11d4",
   "metadata": {},
   "outputs": [],
   "source": [
    "halos_unique = zheng07_model.mock.halo_table"
   ]
  },
  {
   "cell_type": "code",
   "execution_count": 35,
   "id": "fdf2d4fc-efe3-450f-b678-ad4dcfdb0f79",
   "metadata": {},
   "outputs": [],
   "source": [
    "# follow tutorial: https://halotools.readthedocs.io/en/latest/api/halotools.mock_observables.hod_from_mock.html\n",
    "# this is more accurate than previous method because you're includig the halos that have no galaxies vs all have centrals\n",
    "cenmask = galaxies['gal_type'] == 'centrals'\n",
    "central_host_mass = galaxies['halo_mvir'][cenmask]\n",
    "halo_masses = halos_unique['halo_mvir']\n",
    "haloprop_bins = np.logspace(11, 15, 15)\n",
    "mean_ncen_hod, bin_edges = hod_from_mock(central_host_mass, halo_masses, halo_mass)"
   ]
  },
  {
   "cell_type": "code",
   "execution_count": 36,
   "id": "1c68bcfa-444f-4ffe-9861-e40cb9fd5e65",
   "metadata": {},
   "outputs": [],
   "source": [
    "satmask = galaxies['gal_type'] == 'satellites'\n",
    "satellite_host_mass = galaxies['halo_mvir'][satmask]\n",
    "mean_nsat_hod, bin_edges = hod_from_mock(satellite_host_mass, halo_masses, halo_mass)"
   ]
  },
  {
   "cell_type": "code",
   "execution_count": 37,
   "id": "b6c1333b-2721-4af7-b1c7-cb4b97f7fea5",
   "metadata": {},
   "outputs": [],
   "source": [
    "def recenter(bins):\n",
    "    return 0.5*(bins[1:]+bins[:-1])"
   ]
  },
  {
   "cell_type": "code",
   "execution_count": 38,
   "id": "2199274f-c2ed-475e-b19e-f92a8bce6aa6",
   "metadata": {},
   "outputs": [
    {
     "data": {
      "image/png": "[encoded data removed]",
      "text/plain": [
       "<Figure size 432x288 with 1 Axes>"
      ]
     },
     "metadata": {
      "needs_background": "light"
     },
     "output_type": "display_data"
    }
   ],
   "source": [
    "# plt.plot(halo_mass, mean_ncen, label = 'centrals')\n",
    "# plt.plot(halo_mass, mean_nsat, label = 'satellites')\n",
    "# plt.plot(halo_mass, mean_ncen+mean_nsat, label = 'total')\n",
    "# mean_ncen_mock, mean_nsat_mock = hod(galaxies[hostid_ind], halo_mass)\n",
    "mean_ncen_mock_unique, mean_nsat_mock_unique = hod(halos_unique, halo_mass) \n",
    "# plt.plot(halo_mass, mean_ncen_mock, label = 'centrals, mock', linestyle = '--')\n",
    "# plt.plot(halo_mass, mean_nsat_mock, label = 'satellites, mock', linestyle = '--')\n",
    "# plt.plot(halo_mass, np.add(mean_ncen_mock,mean_nsat_mock), label = 'total, mock', linestyle = '--')\n",
    "plt.plot(halo_mass[1:], mean_ncen_hod, label = 'centrals')\n",
    "plt.plot(halo_mass[1:], mean_nsat_hod, label = 'satellites')\n",
    "plt.plot(halo_mass[1:], mean_ncen_hod+mean_nsat_hod, label = 'total')\n",
    "plt.xlabel('$M_\\mathrm{vir}$')\n",
    "plt.ylabel(r'$\\langle N \\rangle$')\n",
    "plt.xscale('log')\n",
    "plt.yscale('log')\n",
    "plt.legend()\n",
    "plt.show()"
   ]
  },
  {
   "cell_type": "markdown",
   "id": "441da4c9-1923-4cbf-8372-57802008a732",
   "metadata": {},
   "source": [
    "## Measure the median clustering signal from a prebuilt mock"
   ]
  },
  {
   "cell_type": "code",
   "execution_count": 39,
   "id": "2b83334b-69d1-4ae1-a5b3-190d18b876ad",
   "metadata": {},
   "outputs": [
    {
     "name": "stderr",
     "output_type": "stream",
     "text": [
      "WARNING: AstropyDeprecationWarning: `astropy.cosmology.core.FLRW` has been moved (since v5.0) and should be imported as ``from astropy.cosmology import FLRW``. In future this will raise an exception. [astropy.cosmology.core]\n",
      "WARNING: AstropyDeprecationWarning: `astropy.cosmology.core.FLRW` has been moved (since v5.0) and should be imported as ``from astropy.cosmology import FLRW``. In future this will raise an exception. [astropy.cosmology.core]\n",
      "WARNING: AstropyDeprecationWarning: `astropy.cosmology.core.FLRW` has been moved (since v5.0) and should be imported as ``from astropy.cosmology import FLRW``. In future this will raise an exception. [astropy.cosmology.core]\n"
     ]
    }
   ],
   "source": [
    "r, xi_cc, xi_cs, xi_ss = zheng07_model.compute_average_galaxy_clustering(gal_type = 'centrals', include_crosscorr = True, num_iterations = 3, num_threads = 'max')"
   ]
  },
  {
   "cell_type": "code",
   "execution_count": 40,
   "id": "301c4531-505c-446e-b37d-5271da21780a",
   "metadata": {},
   "outputs": [
    {
     "name": "stderr",
     "output_type": "stream",
     "text": [
      "WARNING: AstropyDeprecationWarning: `astropy.cosmology.core.FLRW` has been moved (since v5.0) and should be imported as ``from astropy.cosmology import FLRW``. In future this will raise an exception. [astropy.cosmology.core]\n",
      "WARNING: AstropyDeprecationWarning: `astropy.cosmology.core.FLRW` has been moved (since v5.0) and should be imported as ``from astropy.cosmology import FLRW``. In future this will raise an exception. [astropy.cosmology.core]\n",
      "WARNING: AstropyDeprecationWarning: `astropy.cosmology.core.FLRW` has been moved (since v5.0) and should be imported as ``from astropy.cosmology import FLRW``. In future this will raise an exception. [astropy.cosmology.core]\n"
     ]
    }
   ],
   "source": [
    "r, xi_cc_auto = zheng07_model.compute_average_galaxy_clustering(gal_type = 'centrals', include_crosscorr = False, num_iterations = 3, num_threads = 'max')"
   ]
  },
  {
   "cell_type": "code",
   "execution_count": 41,
   "id": "c381db87-e3a0-4b10-b0e6-c4f73412ce6c",
   "metadata": {},
   "outputs": [
    {
     "name": "stderr",
     "output_type": "stream",
     "text": [
      "WARNING: AstropyDeprecationWarning: `astropy.cosmology.core.FLRW` has been moved (since v5.0) and should be imported as ``from astropy.cosmology import FLRW``. In future this will raise an exception. [astropy.cosmology.core]\n",
      "WARNING: AstropyDeprecationWarning: `astropy.cosmology.core.FLRW` has been moved (since v5.0) and should be imported as ``from astropy.cosmology import FLRW``. In future this will raise an exception. [astropy.cosmology.core]\n",
      "WARNING: AstropyDeprecationWarning: `astropy.cosmology.core.FLRW` has been moved (since v5.0) and should be imported as ``from astropy.cosmology import FLRW``. In future this will raise an exception. [astropy.cosmology.core]\n"
     ]
    }
   ],
   "source": [
    "r, xi_ss_auto = zheng07_model.compute_average_galaxy_clustering(gal_type = 'satellites', include_crosscorr = False, num_iterations = 3, num_threads = 'max')"
   ]
  },
  {
   "cell_type": "code",
   "execution_count": 42,
   "id": "8c37022d-a6e3-4945-a67a-2475af21bf02",
   "metadata": {},
   "outputs": [
    {
     "name": "stderr",
     "output_type": "stream",
     "text": [
      "WARNING: AstropyDeprecationWarning: `astropy.cosmology.core.FLRW` has been moved (since v5.0) and should be imported as ``from astropy.cosmology import FLRW``. In future this will raise an exception. [astropy.cosmology.core]\n",
      "WARNING: AstropyDeprecationWarning: `astropy.cosmology.core.FLRW` has been moved (since v5.0) and should be imported as ``from astropy.cosmology import FLRW``. In future this will raise an exception. [astropy.cosmology.core]\n",
      "WARNING: AstropyDeprecationWarning: `astropy.cosmology.core.FLRW` has been moved (since v5.0) and should be imported as ``from astropy.cosmology import FLRW``. In future this will raise an exception. [astropy.cosmology.core]\n"
     ]
    }
   ],
   "source": [
    "r, xi = zheng07_model.compute_average_galaxy_clustering(include_crosscorr = False, num_iterations = 3, num_threads = 'max')"
   ]
  },
  {
   "cell_type": "code",
   "execution_count": 43,
   "id": "e26ca06a-6e0f-4e5e-a462-3ffd814d9acb",
   "metadata": {},
   "outputs": [
    {
     "data": {
      "image/png": "[encoded data removed]",
      "text/plain": [
       "<Figure size 432x288 with 1 Axes>"
      ]
     },
     "metadata": {
      "needs_background": "light"
     },
     "output_type": "display_data"
    },
    {
     "data": {
      "image/png": "[encoded data removed]",
      "text/plain": [
       "<Figure size 432x288 with 1 Axes>"
      ]
     },
     "metadata": {
      "needs_background": "light"
     },
     "output_type": "display_data"
    },
    {
     "data": {
      "image/png": "[encoded data removed]",
      "text/plain": [
       "<Figure size 432x288 with 1 Axes>"
      ]
     },
     "metadata": {
      "needs_background": "light"
     },
     "output_type": "display_data"
    },
    {
     "data": {
      "image/png": "[encoded data removed]",
      "text/plain": [
       "<Figure size 432x288 with 1 Axes>"
      ]
     },
     "metadata": {
      "needs_background": "light"
     },
     "output_type": "display_data"
    }
   ],
   "source": [
    "plt.plot(r, xi, label = 'all galaxies')\n",
    "plt.plot(r, xi_cc_auto, label = 'CC, cross correlation')\n",
    "plt.plot(r, xi_cc, label = 'CC, no cross correlation', linestyle = '--')\n",
    "plt.xlabel('r')\n",
    "plt.ylabel(r'$\\xi(r)$')\n",
    "plt.xscale('log')\n",
    "plt.yscale('log')\n",
    "plt.legend()\n",
    "plt.show()\n",
    "\n",
    "plt.plot(r, xi, label = 'all galaxies')\n",
    "plt.plot(r, xi_cs, label = 'CS, cross correlation')\n",
    "plt.legend()\n",
    "plt.xlabel('r')\n",
    "plt.ylabel(r'$\\xi(r)$')\n",
    "plt.xscale('log')\n",
    "plt.yscale('log')\n",
    "plt.show()\n",
    "\n",
    "plt.plot(r, xi, label = 'all galaxies')\n",
    "plt.plot(r, xi_ss_auto, label = 'SS, cross correlation')\n",
    "plt.plot(r, xi_ss, label = 'SS, no cross correlation', linestyle = '--')\n",
    "plt.xlabel('r')\n",
    "plt.ylabel(r'$\\xi(r)$')\n",
    "plt.xscale('log')\n",
    "plt.yscale('log')\n",
    "plt.legend()\n",
    "plt.show()\n",
    "\n",
    "plt.plot(r, xi)\n",
    "plt.title('all galaxies')\n",
    "plt.xlabel('r')\n",
    "plt.ylabel(r'$\\xi(r)$')\n",
    "plt.xscale('log')\n",
    "plt.yscale('log')\n",
    "plt.show()"
   ]
  },
  {
   "cell_type": "markdown",
   "id": "ae917c4a-ed3e-4550-8718-f9e2e96ed6bc",
   "metadata": {},
   "source": [
    "# Questions\n",
    "- halo_pid points to any specific subhalo? or it just tells you it's a sub-subhalo?\n",
    "- halo_id vs halo_hostid for galaxies?\n",
    "- halo_x vs x for galaxies? halo_vx vs vx? just host halo vs central galaxy?\n",
    "- do i need to design my own galaxy-halo model?\n",
    "- will I use halo_tools clustering or corrfunc clustering? \n",
    "    - compute_average_galaxy_clustering shouldn't be used in MCMC, and wp function doesn't work on observable data... how do you use halotools with corrfunc?\n",
    "- confused about bin edges?"
   ]
  },
  {
   "cell_type": "code",
   "execution_count": null,
   "id": "14392310-0a28-47a1-a2ce-af9ba417d8ac",
   "metadata": {},
   "outputs": [],
   "source": []
  }
 ],
 "metadata": {
  "kernelspec": {
   "display_name": "Python (jupyter-env)",
   "language": "python",
   "name": "jupyter-env"
  },
  "language_info": {
   "codemirror_mode": {
    "name": "ipython",
    "version": 3
   },
   "file_extension": ".py",
   "mimetype": "text/x-python",
   "name": "python",
   "nbconvert_exporter": "python",
   "pygments_lexer": "ipython3",
   "version": "3.8.16"
  }
 },
 "nbformat": 4,
 "nbformat_minor": 5
}
